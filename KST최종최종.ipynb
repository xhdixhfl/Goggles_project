{
 "cells": [
  {
   "cell_type": "code",
   "execution_count": 1,
   "id": "78882a65",
   "metadata": {
    "ExecuteTime": {
     "end_time": "2023-02-04T01:26:59.847120Z",
     "start_time": "2023-02-04T01:26:52.828910Z"
    }
   },
   "outputs": [],
   "source": [
    "import torch\n",
    "from sentence_transformers import SentenceTransformer, util\n",
    "import numpy as np\n",
    "import pandas as pd\n",
    "md = torch.load('C:/k_digital/Sourcce/__최종__/model.tar')\n",
    "ck = torch.load(\"C:/k_digital/Sourcce/web/kobert/kobert/funtion/check_point.tar\")\n",
    "\n",
    "\n",
    "word_embedding_model = md['word_embedding_model']\n",
    "pooling_model = md['pooling_model']\n",
    "model = md['model']\n",
    "embedder = md['embedder']\n",
    "df = md['df']\n",
    "\n",
    "## 전체\n",
    "tot_corpus = ck['tot_corpus']\n",
    "tot_embedding = ck['tot_embedding']\n",
    "\n",
    "## 기초\n",
    "bas_corpus = ck['bas_corpus']\n",
    "bas_embedding = ck['bas_embedding']\n",
    "\n",
    "## 색조\n",
    "col_corpus = ck['col_corpus']\n",
    "col_embedding = ck['col_embedding']\n"
   ]
  },
  {
   "cell_type": "code",
   "execution_count": null,
   "id": "89a4cfe3",
   "metadata": {},
   "outputs": [],
   "source": [
    "from konlpy.tag import Okt\n",
    "tw = Okt()"
   ]
  },
  {
   "cell_type": "code",
   "execution_count": 2,
   "id": "6d5501e0",
   "metadata": {
    "ExecuteTime": {
     "end_time": "2023-02-04T02:07:49.933967Z",
     "start_time": "2023-02-04T02:07:48.419526Z"
    }
   },
   "outputs": [],
   "source": [
    "from konlpy.tag import Kkma\n",
    "from konlpy.utils import pprint\n",
    "\n",
    "kkma = Kkma()"
   ]
  },
  {
   "cell_type": "code",
   "execution_count": null,
   "id": "0cd4e4dd",
   "metadata": {},
   "outputs": [],
   "source": [
    "# 원본\n",
    "def all(no, query):\n",
    "    num = no\n",
    "    if num == 1:\n",
    "        embed = tot_embedding\n",
    "        corpus = tot_corpus\n",
    "\n",
    "    elif num == 2:\n",
    "        embed = bas_embedding\n",
    "        corpus = bas_corpus\n",
    "\n",
    "    elif num == 3:\n",
    "        embed = col_embedding\n",
    "        corpus = col_corpus\n",
    "\n",
    "    query_embedding = embedder.encode(query, convert_to_tensor=True)\n",
    "    cos_scores = util.pytorch_cos_sim(query_embedding, embed)[0]\n",
    "    cos_scores = cos_scores.cpu()\n",
    "\n",
    "    top_results = np.argpartition(-cos_scores, range(5))[0:5]\n",
    "    answer = []\n",
    "    for v, idx in enumerate(top_results[0:5]):\n",
    "        text = corpus[idx].strip()\n",
    "        for i in range(3344):  # 전체 df에서\n",
    "            if text in df['rv'][i]:\n",
    "                pname = df['pname'][i]\n",
    "        answer.append([v + 1, pname, text, np.round(cos_scores[idx], 4)])\n",
    "\n",
    "    return answer  # answer가 리스트에 5개의 리스트요소를 담아둠\n"
   ]
  },
  {
   "cell_type": "code",
   "execution_count": null,
   "id": "d6987e96",
   "metadata": {},
   "outputs": [],
   "source": [
    "# try\n",
    "def all2(query):\n",
    "    x = pprint(kkma.nouns(query))\n",
    "    if num == 1:\n",
    "        embed = tot_embedding\n",
    "        corpus = tot_corpus\n",
    "\n",
    "    elif num == 2:\n",
    "        embed = bas_embedding\n",
    "        corpus = bas_corpus\n",
    "\n",
    "    elif num == 3:\n",
    "        embed = col_embedding\n",
    "        corpus = col_corpus\n",
    "\n",
    "    query_embedding = embedder.encode(query, convert_to_tensor=True)\n",
    "    cos_scores = util.pytorch_cos_sim(query_embedding, embed)[0]\n",
    "    cos_scores = cos_scores.cpu()\n",
    "\n",
    "    top_results = np.argpartition(-cos_scores, range(5))[0:5]\n",
    "    answer = []\n",
    "    for v, idx in enumerate(top_results[0:5]):\n",
    "        text = corpus[idx].strip()\n",
    "        for i in range(3344):  # 전체 df에서\n",
    "            if text in df['rv'][i]:\n",
    "                pname = df['pname'][i]\n",
    "        answer.append([v + 1, pname, text, np.round(cos_scores[idx], 4)])\n",
    "\n",
    "    return answer  # answer가 리스트에 5개의 리스트요소를 담아둠\n"
   ]
  },
  {
   "cell_type": "code",
   "execution_count": 5,
   "id": "22023164",
   "metadata": {
    "ExecuteTime": {
     "end_time": "2023-02-04T02:09:33.334772Z",
     "start_time": "2023-02-04T02:09:27.157374Z"
    }
   },
   "outputs": [
    {
     "name": "stdout",
     "output_type": "stream",
     "text": [
      "try it:보들보들한 스킨로션\n"
     ]
    }
   ],
   "source": [
    "query = str(input('try it:'))\n",
    "k  =kkma.nouns(query)"
   ]
  },
  {
   "cell_type": "code",
   "execution_count": 6,
   "id": "55819171",
   "metadata": {
    "ExecuteTime": {
     "end_time": "2023-02-04T02:09:35.532188Z",
     "start_time": "2023-02-04T02:09:35.518345Z"
    }
   },
   "outputs": [
    {
     "data": {
      "text/plain": [
       "['스킨', '스킨로션', '로션']"
      ]
     },
     "execution_count": 6,
     "metadata": {},
     "output_type": "execute_result"
    }
   ],
   "source": [
    "k"
   ]
  },
  {
   "cell_type": "code",
   "execution_count": 33,
   "id": "bfe397c8",
   "metadata": {
    "ExecuteTime": {
     "end_time": "2023-02-04T02:41:41.495893Z",
     "start_time": "2023-02-04T02:41:41.480825Z"
    }
   },
   "outputs": [],
   "source": [
    "bas = ['스킨', '스킨로션','로션', '크림','에밀젼','에밀전','에센스','에세스','수분크림','미스트','촉촉', '세럼','토너','패드','닦토','팩','성분','순한']\n",
    "col = ['가루','쉐도우','섀도우','새도우','팔레트','파레트','립스틱','립','틴트','발색','매트','메트','벨벳','밸벳','글로시','입술','글로스','유리알','유리','쿠션',\\\n",
    "       '파운','파운데이션', '파데','노세범','파대','밀착력','밀착','컬링','볼륨','롱','마스카라','베이스','속눈썹','컬링력','아이라인','아이라이너','번지는','유지력', '색']"
   ]
  },
  {
   "cell_type": "code",
   "execution_count": 12,
   "id": "810e4b79",
   "metadata": {
    "ExecuteTime": {
     "end_time": "2023-02-04T02:22:22.879655Z",
     "start_time": "2023-02-04T02:22:22.861187Z"
    }
   },
   "outputs": [
    {
     "name": "stdout",
     "output_type": "stream",
     "text": [
      "['스킨', '스킨로션', '로션']\n"
     ]
    },
    {
     "data": {
      "text/plain": [
       "2"
      ]
     },
     "execution_count": 12,
     "metadata": {},
     "output_type": "execute_result"
    }
   ],
   "source": [
    "no =''\n",
    "print(k)\n",
    "for i in k:\n",
    "    if i in bas:\n",
    "        no = 2\n",
    "    elif i in col:\n",
    "        no = 3\n",
    "    else:\n",
    "        no = 1\n",
    "no      "
   ]
  },
  {
   "cell_type": "code",
   "execution_count": null,
   "id": "d67c27f8",
   "metadata": {},
   "outputs": [],
   "source": [
    "if 3 in no and 2 in no and 1 in no:\n",
    "    answer = 1"
   ]
  },
  {
   "cell_type": "code",
   "execution_count": 36,
   "id": "5fb5d2c2",
   "metadata": {
    "ExecuteTime": {
     "end_time": "2023-02-04T02:43:22.438082Z",
     "start_time": "2023-02-04T02:43:22.420042Z"
    }
   },
   "outputs": [
    {
     "data": {
      "text/plain": [
       "1"
      ]
     },
     "execution_count": 36,
     "metadata": {},
     "output_type": "execute_result"
    }
   ],
   "source": [
    "no = [2 if i in bas else 3 if i in col else 1 for i in k]\n",
    "answer = [2 if 2 in no and 1 in no else 3 if 3 in no and 1 in no else 1]\n",
    "# if 2 in no and 1 in no: \n",
    "#     answer = 2\n",
    "# elif 3 in no and 1 in no:\n",
    "#     answer = 3\n",
    "# else:\n",
    "#     answer = 1\n",
    "answer[0]"
   ]
  },
  {
   "cell_type": "code",
   "execution_count": 27,
   "id": "238c8279",
   "metadata": {
    "ExecuteTime": {
     "end_time": "2023-02-04T02:37:33.393837Z",
     "start_time": "2023-02-04T02:37:33.390862Z"
    }
   },
   "outputs": [],
   "source": [
    "if k in col:\n",
    "    print('yes')"
   ]
  },
  {
   "cell_type": "code",
   "execution_count": 29,
   "id": "351540a4",
   "metadata": {
    "ExecuteTime": {
     "end_time": "2023-02-04T02:41:06.004281Z",
     "start_time": "2023-02-04T02:40:57.034183Z"
    }
   },
   "outputs": [
    {
     "name": "stdout",
     "output_type": "stream",
     "text": [
      "try it:색은 예쁜데 촉촉한 크림\n"
     ]
    }
   ],
   "source": [
    "query = str(input('try it:'))\n",
    "k  =kkma.nouns(query)"
   ]
  },
  {
   "cell_type": "code",
   "execution_count": 32,
   "id": "96706fea",
   "metadata": {
    "ExecuteTime": {
     "end_time": "2023-02-04T02:41:27.393240Z",
     "start_time": "2023-02-04T02:41:27.379758Z"
    }
   },
   "outputs": [
    {
     "data": {
      "text/plain": [
       "['색', '크림']"
      ]
     },
     "execution_count": 32,
     "metadata": {},
     "output_type": "execute_result"
    }
   ],
   "source": [
    "k"
   ]
  },
  {
   "cell_type": "code",
   "execution_count": 91,
   "id": "36d99110",
   "metadata": {
    "ExecuteTime": {
     "end_time": "2023-02-04T03:13:17.496572Z",
     "start_time": "2023-02-04T03:13:17.477285Z"
    }
   },
   "outputs": [],
   "source": [
    "# try\n",
    "def all2(query):\n",
    "    k  =kkma.nouns(query)\n",
    "    no = [2 if i in bas else 3 if i in col else 1 for i in k]\n",
    "    answer = [2 if 2 in no and 1 in no else 3 if 3 in no and 1 in no else 1]\n",
    "    num = answer[0]\n",
    "    if num == 1:\n",
    "        embed = tot_embedding\n",
    "        corpus = tot_corpus\n",
    "\n",
    "    elif num == 2:\n",
    "        embed = bas_embedding\n",
    "        corpus = bas_corpus\n",
    "\n",
    "    elif num == 3:\n",
    "        embed = col_embedding\n",
    "        corpus = col_corpus\n",
    "\n",
    "    query_embedding = embedder.encode(query, convert_to_tensor=True)\n",
    "    cos_scores = util.pytorch_cos_sim(query_embedding, embed)[0]\n",
    "    cos_scores = cos_scores.cpu()\n",
    "\n",
    "    top_results = np.argpartition(-cos_scores, range(5))[0:5]\n",
    "    answer = []\n",
    "    test = []\n",
    "    for v, idx in enumerate(top_results[0:7]):\n",
    "        text = corpus[idx].strip()\n",
    "        for i in range(3344):  # 전체 df에서\n",
    "            if text in df['rv'][i] and text not in test:\n",
    "                pname = df['pname'][i]\n",
    "                if float(cos_scores[idx])>0.69 and text not in answer:\n",
    "                    test.append(text)\n",
    "                    answer.append([pname, text, round(float(cos_scores[idx]),4)])\n",
    "    return answer  # answer가 리스트에 5개의 리스트요소를 담아둠\n"
   ]
  },
  {
   "cell_type": "code",
   "execution_count": 49,
   "id": "b99c7a23",
   "metadata": {
    "ExecuteTime": {
     "end_time": "2023-02-04T02:52:43.909711Z",
     "start_time": "2023-02-04T02:52:43.902234Z"
    }
   },
   "outputs": [
    {
     "data": {
      "text/plain": [
       "[1]"
      ]
     },
     "execution_count": 49,
     "metadata": {},
     "output_type": "execute_result"
    }
   ],
   "source": []
  },
  {
   "cell_type": "code",
   "execution_count": 75,
   "id": "62d9d10a",
   "metadata": {
    "ExecuteTime": {
     "end_time": "2023-02-04T03:05:48.065324Z",
     "start_time": "2023-02-04T03:05:40.715702Z"
    }
   },
   "outputs": [
    {
     "name": "stdout",
     "output_type": "stream",
     "text": [
      "try it:수분감 촉촉한 미스트\n"
     ]
    },
    {
     "data": {
      "text/plain": [
       "[['[메이크업아티스트Pick] 에스테덤 셀룰러 워터 미스트 200ml (항산화 미스트)',\n",
       "  '🌼 여름철 미스트 하나로 스킨케어 끝',\n",
       "  0.8752],\n",
       " ['바이오힐보 판테놀시카 배리어 크림미스트 120ml', '유분감이 느껴지는 미스트가 필요했습니다👍', 0.8663],\n",
       " ['차앤박(CNP) 프로폴리스 에너지 앰플 미스트 250ml', '미스트에 적당한 유분기가 잇어 촉촉해요', 0.8589],\n",
       " ['[메이크업아티스트Pick] 에스테덤 셀룰러 워터 미스트 200ml (항산화 미스트)',\n",
       "  '물미스트인데 촉촉하구 보습력 좋아요',\n",
       "  0.8581]]"
      ]
     },
     "execution_count": 75,
     "metadata": {},
     "output_type": "execute_result"
    }
   ],
   "source": [
    "query = str(input('try it:'))\n",
    "x = all2(query)\n",
    "x"
   ]
  },
  {
   "cell_type": "code",
   "execution_count": 79,
   "id": "f12812d3",
   "metadata": {
    "ExecuteTime": {
     "end_time": "2023-02-04T03:06:33.903011Z",
     "start_time": "2023-02-04T03:06:25.049920Z"
    }
   },
   "outputs": [
    {
     "name": "stdout",
     "output_type": "stream",
     "text": [
      "try it:향기 좋은 수분 크림\n"
     ]
    },
    {
     "data": {
      "text/plain": [
       "[['에스트라 아토베리어365 크림 기프트 세트(크림 80ml*2+로션 60ml+하이드로에센스 40ml)',\n",
       "  '🍀 촉촉한 타입의 수분 에센스',\n",
       "  0.8213],\n",
       " ['비욘드 엔젤아쿠아 수분 진정 크림 150ml 1+1 기획 (비건)', '말그대로 ‘수분’크림입니다', 0.8156],\n",
       " ['비욘드 엔젤아쿠아 수분 진정 크림 150ml 1+1 기획 (비건)', '딱 수분을 채워주는 순한 수분크림이기 때문에', 0.814],\n",
       " ['[한정기획] 라로슈포제 시카플라스트 크림 B5 100ml 기획 (+시카 크림 15ml *2)',\n",
       "  '보습탄력주름케어로 나온 크림인데..',\n",
       "  0.8093],\n",
       " ['에스트라 아토베리어365 크림미스트 120ml', '크림 미스트라 그런지 확실이 보습력이 좋더라구요', 0.8066]]"
      ]
     },
     "execution_count": 79,
     "metadata": {},
     "output_type": "execute_result"
    }
   ],
   "source": [
    "query = str(input('try it:'))\n",
    "x = all2(query)\n",
    "x"
   ]
  },
  {
   "cell_type": "code",
   "execution_count": 80,
   "id": "8452e40b",
   "metadata": {
    "ExecuteTime": {
     "end_time": "2023-02-04T03:07:01.172702Z",
     "start_time": "2023-02-04T03:06:47.739431Z"
    }
   },
   "outputs": [
    {
     "name": "stdout",
     "output_type": "stream",
     "text": [
      "try it:컬링력 좋은 마스카라\n"
     ]
    },
    {
     "data": {
      "text/plain": [
       "[['[문빈PICK] 지베르니 밀착 센서티브 마스카라 1+1 기획 (본품+본품)', '번짐없는 마스카라 유지력도 좋았고', 0.8634],\n",
       " ['클리오 킬래쉬 수퍼프루프마스카라 1+1 기획', '-데일리로 자연스러운 마스카라를 찾으시는 분들', 0.8514],\n",
       " ['홀리카홀리카 래쉬코렉팅마스카라 1+1 기획 (9ml+9ml)', '다른 마스카라 보다 잘 지워지는편', 0.8426]]"
      ]
     },
     "execution_count": 80,
     "metadata": {},
     "output_type": "execute_result"
    }
   ],
   "source": [
    "query = str(input('try it:'))\n",
    "x = all2(query)\n",
    "x"
   ]
  },
  {
   "cell_type": "code",
   "execution_count": 83,
   "id": "797d5e2d",
   "metadata": {
    "ExecuteTime": {
     "end_time": "2023-02-04T03:09:45.757134Z",
     "start_time": "2023-02-04T03:09:35.391864Z"
    }
   },
   "outputs": [
    {
     "name": "stdout",
     "output_type": "stream",
     "text": [
      "try it:건조한 피부에 좋아요\n"
     ]
    },
    {
     "data": {
      "text/plain": [
       "[['트릴로지 로즈힙오일 라이트 블렌드 30ml', '건조한 피부에 너무 좋아요', 0.9481],\n",
       " ['[단독기획] 토리든 다이브인 저분자 히알루론산 수딩크림 더블기획(100ml+100ml)', '수부지 속 건조에 좋아요', 0.8832],\n",
       " ['닥터자르트 시카페어 페이셜 카밍 미스트 150ml (안개분사 미스트)', '- 피부가 건조할 때 쓰기 정말 좋습니다!', 0.8759],\n",
       " ['[선물 기획] 바이오힐보 프로바이오덤 리페어 스킨&에멀전 2종 기획 (본품2종+크림10ml+아이크림10ml 증정)',\n",
       "  '건성한테 좋아요~',\n",
       "  0.856]]"
      ]
     },
     "execution_count": 83,
     "metadata": {},
     "output_type": "execute_result"
    }
   ],
   "source": [
    "query = str(input('try it:'))\n",
    "x = all2(query)\n",
    "x"
   ]
  },
  {
   "cell_type": "code",
   "execution_count": 90,
   "id": "aeddd852",
   "metadata": {
    "ExecuteTime": {
     "end_time": "2023-02-04T03:12:44.288463Z",
     "start_time": "2023-02-04T03:12:42.365175Z"
    }
   },
   "outputs": [
    {
     "name": "stdout",
     "output_type": "stream",
     "text": [
      "try it:가루날림 적은 쉐도우\n"
     ]
    },
    {
     "data": {
      "text/plain": [
       "[['클리오 쉐이드앤섀도우 팔레트', '2. 가루날림', 0.7743],\n",
       " ['홀리카홀리카 마이페이브 무드 아이팔레트', '가루날림 적고', 0.7506],\n",
       " ['[민니 Pick] 3CE 멀티 아이 컬러 팔레트', '🤎 가루날림', 0.7438],\n",
       " ['투쿨포스쿨 바이로댕 쉐이딩', '가루 날림은 좀 있지만', 0.6997]]"
      ]
     },
     "execution_count": 90,
     "metadata": {},
     "output_type": "execute_result"
    }
   ],
   "source": [
    "query = str(input('try it:'))\n",
    "x = all2(query)\n",
    "x"
   ]
  },
  {
   "cell_type": "code",
   "execution_count": null,
   "id": "58da25a3",
   "metadata": {},
   "outputs": [],
   "source": []
  }
 ],
 "metadata": {
  "hide_input": false,
  "kernelspec": {
   "display_name": "Python 3 (ipykernel)",
   "language": "python",
   "name": "python3"
  },
  "language_info": {
   "codemirror_mode": {
    "name": "ipython",
    "version": 3
   },
   "file_extension": ".py",
   "mimetype": "text/x-python",
   "name": "python",
   "nbconvert_exporter": "python",
   "pygments_lexer": "ipython3",
   "version": "3.9.7"
  },
  "toc": {
   "base_numbering": 1,
   "nav_menu": {},
   "number_sections": true,
   "sideBar": true,
   "skip_h1_title": false,
   "title_cell": "Table of Contents",
   "title_sidebar": "Contents",
   "toc_cell": false,
   "toc_position": {},
   "toc_section_display": true,
   "toc_window_display": false
  }
 },
 "nbformat": 4,
 "nbformat_minor": 5
}

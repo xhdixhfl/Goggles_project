{
 "cells": [
  {
   "cell_type": "markdown",
   "id": "88c39694",
   "metadata": {},
   "source": [
    "# library loading"
   ]
  },
  {
   "cell_type": "code",
   "execution_count": 1,
   "id": "7b16de6b",
   "metadata": {
    "ExecuteTime": {
     "end_time": "2023-02-03T06:12:27.508637Z",
     "start_time": "2023-02-03T06:12:17.584859Z"
    }
   },
   "outputs": [
    {
     "name": "stderr",
     "output_type": "stream",
     "text": [
      "The tokenizer class you load from this checkpoint is not the same type as the class this function is called from. It may result in unexpected tokenization. \n",
      "The tokenizer class you load from this checkpoint is 'BertTokenizer'. \n",
      "The class this function is called from is 'KoBertTokenizer'.\n"
     ]
    }
   ],
   "source": [
    "#!pip install ko-sentence-transformers \n",
    "from sentence_transformers import SentenceTransformer, models\n",
    "from ko_sentence_transformers.models import KoBertTransformer\n",
    "\n",
    "# Model loading\n",
    "word_embedding_model = KoBertTransformer(\"monologg/kobert\", max_seq_length=75)\n",
    "pooling_model = models.Pooling(word_embedding_model.get_word_embedding_dimension(), pooling_mode='mean')\n",
    "model = SentenceTransformer(modules=[word_embedding_model, pooling_model])\n",
    "\n",
    "from sentence_transformers import SentenceTransformer, util\n",
    "import numpy as np\n",
    "import pandas as pd\n",
    "\n",
    "# embedder loading\n",
    "embedder = SentenceTransformer(\"jhgan/ko-sbert-sts\")"
   ]
  },
  {
   "cell_type": "markdown",
   "id": "e0ba2b74",
   "metadata": {},
   "source": [
    "# data loading"
   ]
  },
  {
   "cell_type": "code",
   "execution_count": 2,
   "id": "754b52e5",
   "metadata": {
    "ExecuteTime": {
     "end_time": "2023-02-03T06:12:27.610810Z",
     "start_time": "2023-02-03T06:12:27.510827Z"
    }
   },
   "outputs": [],
   "source": [
    "# 데이터 불러오기\n",
    "df = pd.read_csv('DBdata.csv')  # 경로 수정"
   ]
  },
  {
   "cell_type": "code",
   "execution_count": 3,
   "id": "5956d1ee",
   "metadata": {
    "ExecuteTime": {
     "end_time": "2023-02-03T06:13:43.741880Z",
     "start_time": "2023-02-03T06:13:40.507480Z"
    }
   },
   "outputs": [],
   "source": [
    "## df랑 모듈들 저장 가능하냐?\n",
    "import torch\n",
    "torch.save({'df':df, 'embedder':embedder, 'word_embedding_model':word_embedding_model,\\\n",
    "            'pooling_model':pooling_model, 'model':model},\"model.tar\")"
   ]
  },
  {
   "cell_type": "markdown",
   "id": "1a97b457",
   "metadata": {},
   "source": [
    "# 기본 수행"
   ]
  },
  {
   "cell_type": "code",
   "execution_count": 33,
   "id": "1e3cdd3c",
   "metadata": {
    "ExecuteTime": {
     "end_time": "2023-02-02T13:09:47.793777Z",
     "start_time": "2023-02-02T12:54:18.948179Z"
    }
   },
   "outputs": [],
   "source": [
    "# 전체 카테고리(tot)\n",
    "## corpus\n",
    "texts = ''\n",
    "for line in df.rv[:]:\n",
    "    texts = texts + line\n",
    "text = list(filter(None, texts.split(sep='\\n')))\n",
    "## embedding\n",
    "tot_corpus = text\n",
    "tot_embedding = embedder.encode(tot_corpus, convert_to_tensor = True)"
   ]
  },
  {
   "cell_type": "code",
   "execution_count": 34,
   "id": "68208d6b",
   "metadata": {
    "ExecuteTime": {
     "end_time": "2023-02-02T13:16:29.861719Z",
     "start_time": "2023-02-02T13:09:47.798116Z"
    }
   },
   "outputs": [],
   "source": [
    "# 기초케어 카테고리(bas)\n",
    "## 범위 split\n",
    "fir = df[df['cate'] == '토너'].index[0]\n",
    "las = df[df['cate'] == '미스트'].index[-1]\n",
    "## corpus\n",
    "texts = ''\n",
    "for line in df.rv[fir:las]:\n",
    "    texts = texts + line\n",
    "text = list(filter(None, texts.split(sep='\\n')))\n",
    "\n",
    "## embedding\n",
    "bas_corpus = text\n",
    "bas_embedding = embedder.encode(bas_corpus, convert_to_tensor = True)"
   ]
  },
  {
   "cell_type": "code",
   "execution_count": 3,
   "id": "9b81c73b",
   "metadata": {
    "ExecuteTime": {
     "end_time": "2023-02-02T12:24:56.254564Z",
     "start_time": "2023-02-02T12:16:00.123047Z"
    }
   },
   "outputs": [],
   "source": [
    "# 색조케어 카테고리(col)\n",
    "## 범위 split\n",
    "fir = df[df['cate'] == '립'].index[0]\n",
    "las = df[df['cate'] == '아이'].index[-1]\n",
    "## corpus\n",
    "texts = ''\n",
    "for line in df.rv[fir:las]:\n",
    "    texts = texts + line\n",
    "text = list(filter(None, texts.split(sep='\\n')))\n",
    "\n",
    "## embedding\n",
    "col_corpus = text\n",
    "col_embedding = embedder.encode(col_corpus, convert_to_tensor = True)"
   ]
  },
  {
   "cell_type": "code",
   "execution_count": 36,
   "id": "013991d5",
   "metadata": {
    "ExecuteTime": {
     "end_time": "2023-02-02T13:17:23.826275Z",
     "start_time": "2023-02-02T13:17:23.665297Z"
    }
   },
   "outputs": [],
   "source": [
    "# toch 파일로 저장\n",
    "import torch\n",
    "torch.save({'tot_corpus':tot_corpus, 'tot_embedding':tot_embedding, 'bas_corpus':bas_corpus,\\\n",
    "            'bas_embedding':bas_embedding, 'col_corpus':col_corpus, 'col_embedding':col_embedding},\"check_point.tar\")"
   ]
  },
  {
   "cell_type": "markdown",
   "id": "aae227cf",
   "metadata": {},
   "source": [
    "# 필요한 작업 수행"
   ]
  },
  {
   "cell_type": "code",
   "execution_count": 8,
   "id": "c9c1036c",
   "metadata": {
    "ExecuteTime": {
     "end_time": "2023-02-02T12:30:11.464969Z",
     "start_time": "2023-02-02T12:30:11.449242Z"
    }
   },
   "outputs": [],
   "source": [
    "# 출력폼 함수\n",
    "def menu(no):\n",
    "    print('-'*30)\n",
    "    print('★원하는 카테고리를 선택해주세요★')\n",
    "    print('1. 전체')\n",
    "    print('2. 기초')\n",
    "    print('3. 색조')\n",
    "    print('-'*30)\n",
    "    embed, corpus, cate = choice_cate(no)\n",
    "    return embed, corpus, cate \n",
    "    \n",
    "    \n",
    "# 카테고리 선택 함수\n",
    "def choice_cate(no):\n",
    "    num = no\n",
    "    if num == 1:\n",
    "        embed = tot_embedding\n",
    "        corpus = tot_corpus\n",
    "        cate = '전체'\n",
    "    elif num == 2:\n",
    "        embed = bas_embedding\n",
    "        corpus = bas_corpus\n",
    "        cate = '기초'\n",
    "    elif num == 3:\n",
    "        embed = col_embedding\n",
    "        corpus = col_corpus\n",
    "        cate = '색조'\n",
    "    else:\n",
    "        print('잘못된 선택입니다. 1~3 사이의 숫자로 입력해주세요.')\n",
    "        return menu()\n",
    "    return embed, corpus, cate\n",
    "        \n",
    "\n",
    "# 유사 문장 리턴함수\n",
    "def num_return(text, embed, corpus, cate):\n",
    "    query= text # str(input('검색하기 : '))\n",
    "    cate_embedding = embed\n",
    "    # 유사도 평가를 위한 작업\n",
    "    query_embedding = embedder.encode(query, convert_to_tensor=True)\n",
    "    cos_scores = util.pytorch_cos_sim(query_embedding, cate_embedding)[0]\n",
    "    cos_scores = cos_scores.cpu()\n",
    "    # 상위 결과 추출\n",
    "    top_results = np.argpartition(-cos_scores, range(5))[0:5]\n",
    "    print(\"\\n▽▽▽▽▽▽▽▽▽▽▽▽▽▽▽▽▽▽▽\\n\")\n",
    "    print(\"요청 문장:\", query)\n",
    "    print(f\"🌼{cate} 카테고리의 리뷰들 중 가장 유사한 5개 리뷰문장🌼\\n\")\n",
    "    for v, idx in enumerate(top_results[0:5]):\n",
    "        text = corpus[idx].strip() \n",
    "        for i in range(3344):\n",
    "            if text in df['rv'][i]:\n",
    "                pname = df['pname'][i]\n",
    "        print(v+1, pname, '\\n','▶',text, \"(Score: %.4f)\" % (cos_scores[idx]))\n",
    "    print(\"\\n△△△△△△△△△△△△△△△△△△\\n\")\n",
    "    \n",
    "def play_rv(no, text):\n",
    "    embed, corpus, cate = menu(no)\n",
    "    num_return(text, embed, corpus, cate)"
   ]
  },
  {
   "cell_type": "code",
   "execution_count": 21,
   "id": "2a10de94",
   "metadata": {
    "ExecuteTime": {
     "end_time": "2023-02-02T12:37:32.810151Z",
     "start_time": "2023-02-02T12:37:32.795373Z"
    }
   },
   "outputs": [],
   "source": [
    "def list_return(text, embed, corpus, cate):\n",
    "    global answer\n",
    "    answer = []\n",
    "    query= text # str(input('검색하기 : '))\n",
    "    cate_embedding = embed\n",
    "    # 유사도 평가를 위한 작업\n",
    "    query_embedding = embedder.encode(query, convert_to_tensor=True)\n",
    "    cos_scores = util.pytorch_cos_sim(query_embedding, cate_embedding)[0]\n",
    "    cos_scores = cos_scores.cpu()\n",
    "    # 상위 결과 추출\n",
    "    top_results = np.argpartition(-cos_scores, range(5))[0:5]\n",
    "    print(\"\\n▽▽▽▽▽▽▽▽▽▽▽▽▽▽▽▽▽▽▽\\n\")\n",
    "    print(\"요청 문장:\", query)\n",
    "    print(f\"🌼{cate} 카테고리의 리뷰들 중 가장 유사한 5개 리뷰문장🌼\\n\")\n",
    "    for v, idx in enumerate(top_results[0:5]):\n",
    "        text = corpus[idx].strip() \n",
    "        for i in range(3344):\n",
    "            if text in df['rv'][i]:\n",
    "                pname = df['pname'][i]\n",
    "        answer.append([v+1, pname, text, np.round(cos_scores[idx],4)])\n",
    "#         print(answer)\n",
    "        print(v+1, pname, '\\n','▶',text, \"(Score: %.4f)\" % (cos_scores[idx]))\n",
    "    print(\"\\n△△△△△△△△△△△△△△△△△△\\n\")\n",
    "    return answer\n",
    "\n",
    "def play_rv2(no, text):\n",
    "    embed, corpus, cate = menu(no)\n",
    "    list_return(text, embed, corpus, cate)"
   ]
  },
  {
   "cell_type": "code",
   "execution_count": 35,
   "id": "b2a416a1",
   "metadata": {
    "ExecuteTime": {
     "end_time": "2023-02-02T13:16:29.877539Z",
     "start_time": "2023-02-02T13:16:29.861719Z"
    }
   },
   "outputs": [],
   "source": [
    "def list_return2(text, embed, corpus, cate):\n",
    "    global answer\n",
    "    answer = []\n",
    "    query= text # str(input('검색하기 : '))\n",
    "    cate_embedding = embed\n",
    "    # 유사도 평가를 위한 작업\n",
    "    query_embedding = embedder.encode(query, convert_to_tensor=True)\n",
    "    cos_scores = util.pytorch_cos_sim(query_embedding, cate_embedding)[0]\n",
    "    cos_scores = cos_scores.cpu()\n",
    "    # 상위 결과 추출\n",
    "    top_results = np.argpartition(-cos_scores, range(5))[0:5]\n",
    "    print(\"\\n▽▽▽▽▽▽▽▽▽▽▽▽▽▽▽▽▽▽▽\\n\")\n",
    "    print(\"요청 문장:\", query)\n",
    "    print(f\"🌼{cate} 카테고리의 리뷰들 중 가장 유사한 5개 리뷰문장🌼\\n\")\n",
    "    for v, idx in enumerate(top_results[0:5]):\n",
    "        text = corpus[idx].strip() \n",
    "        for i in range(3344):\n",
    "            if text in df['rv'][i]:\n",
    "                pname = df['pname'][i]\n",
    "                x = [v+1, pname, text, np.round(cos_scores[idx],4)]\n",
    "                answer.append(x)\n",
    "#         print(v+1, pname, '\\n','▶',text, \"(Score: %.4f)\" % (cos_scores[idx]))\n",
    "#     print(\"\\n△△△△△△△△△△△△△△△△△△\\n\")\n",
    "    return answer\n",
    "\n",
    "def play_rv3(no, text):\n",
    "    embed, corpus, cate = menu(no)\n",
    "    answer = list_return2(text, embed, corpus, cate)\n",
    "    return answer"
   ]
  },
  {
   "cell_type": "code",
   "execution_count": 32,
   "id": "f38bb321",
   "metadata": {
    "ExecuteTime": {
     "end_time": "2023-02-02T12:45:55.615075Z",
     "start_time": "2023-02-02T12:45:50.653681Z"
    }
   },
   "outputs": [
    {
     "name": "stdout",
     "output_type": "stream",
     "text": [
      "category3\n",
      "search_review:4호\n",
      "------------------------------\n",
      "★원하는 카테고리를 선택해주세요★\n",
      "1. 전체\n",
      "2. 기초\n",
      "3. 색조\n",
      "------------------------------\n",
      "\n",
      "▽▽▽▽▽▽▽▽▽▽▽▽▽▽▽▽▽▽▽\n",
      "\n",
      "요청 문장: 4호\n",
      "🌼색조 카테고리의 리뷰들 중 가장 유사한 5개 리뷰문장🌼\n",
      "\n",
      "1 [NEW] 컬러그램 올인원 애교살 메이커 5종 \n",
      " ▶ 4번이 너무 예뻐요..🤓🧡✨✨ (Score: 0.6303)\n",
      "2 [2022어워즈] 웨이크메이크 워터 블러링 픽싱 틴트 10colors \n",
      " ▶ ✰ 지속력 4점 (Score: 0.5935)\n",
      "3 [레오제이 PICK] 퓌 쿠션 글래스 리필기획(본품+리필+퍼프증정) \n",
      " ▶ 퍼프가 4개 네요???? (Score: 0.5904)\n",
      "4 [NEW] 롬앤 글래스팅 멜팅 밤 \n",
      " ▶ 있어보이는 4호 히피 베리와 6호 카야 피그를 (Score: 0.5552)\n",
      "5 홀리카홀리카 마이페이브 무드 아이팔레트 \n",
      " ▶ 4번은 더 써본 팔레트인데요..😂 (Score: 0.5497)\n",
      "\n",
      "△△△△△△△△△△△△△△△△△△\n",
      "\n",
      "[[1, '[NEW] 컬러그램 올인원 애교살 메이커 5종', '4번이 너무 예뻐요..🤓🧡✨✨', tensor(0.6303)], [2, '[2022어워즈] 웨이크메이크 워터 블러링 픽싱 틴트 10colors', '✰ 지속력 4점', tensor(0.5935)], [3, '[레오제이 PICK] 퓌 쿠션 글래스 리필기획(본품+리필+퍼프증정)', '퍼프가 4개 네요????', tensor(0.5904)], [4, '[NEW] 롬앤 글래스팅 멜팅 밤', '있어보이는 4호 히피 베리와 6호 카야 피그를', tensor(0.5552)], [5, '홀리카홀리카 마이페이브 무드 아이팔레트', '4번은 더 써본 팔레트인데요..😂', tensor(0.5497)], [5, '홀리카홀리카 마이페이브 무드 아이팔레트', '4번은 더 써본 팔레트인데요..😂', tensor(0.5497)]]\n"
     ]
    }
   ],
   "source": [
    "no = int(input('category'))\n",
    "text = str(input('search_review:'))\n",
    "answer = play_rv3(no, text)\n",
    "print(answer)"
   ]
  },
  {
   "cell_type": "code",
   "execution_count": 29,
   "id": "5f8655dc",
   "metadata": {
    "ExecuteTime": {
     "end_time": "2023-02-02T12:44:12.595241Z",
     "start_time": "2023-02-02T12:44:12.586426Z"
    }
   },
   "outputs": [],
   "source": [
    "answer"
   ]
  },
  {
   "cell_type": "code",
   "execution_count": null,
   "id": "7617dcec",
   "metadata": {},
   "outputs": [],
   "source": [
    "# def 원본(query, embed, corpus, cate):\n",
    "#     query= text # str(input('검색하기 : '))cate_embedding = embed\n",
    "#     # 유사도 평가를 위한 작업\n",
    "#     query_embedding = embedder.encode(query, convert_to_tensor=True)\n",
    "#     cos_scores = util.pytorch_cos_sim(query_embedding, cate_embedding)[0]\n",
    "#     cos_scores = cos_scores.cpu()\n",
    "#     # 상위 결과 추출\n",
    "#     top_results = np.argpartition(-cos_scores, range(5))[0:5]\n",
    "#     print(\"\\n▽▽▽▽▽▽▽▽▽▽▽▽▽▽▽▽▽▽▽\\n\")\n",
    "#     print(\"요청 문장:\", query)\n",
    "#     print(f\"🌼{cate} 카테고리의 리뷰들 중 가장 유사한 5개 리뷰문장🌼\\n\")\n",
    "#     for v, idx in enumerate(top_results[0:5]):\n",
    "#         text = corpus[idx].strip() \n",
    "#         for i in range(3344):\n",
    "#             if text in df['rv'][i]:\n",
    "#                 pname = df['pname'][i]\n",
    "#         print(v+1, pname, '\\n','▶',text, \"(Score: %.4f)\" % (cos_scores[idx]))\n",
    "#     print(\"\\n△△△△△△△△△△△△△△△△△△\\n\")"
   ]
  },
  {
   "cell_type": "code",
   "execution_count": 6,
   "id": "0f6fdbcb",
   "metadata": {
    "ExecuteTime": {
     "end_time": "2023-02-02T08:39:02.275853Z",
     "start_time": "2023-02-02T08:38:34.167819Z"
    }
   },
   "outputs": [
    {
     "name": "stdout",
     "output_type": "stream",
     "text": [
      "category3\n",
      "search_review:여드름성 피부에 좋은 로션\n",
      "------------------------------\n",
      "★원하는 카테고리를 선택해주세요★\n",
      "1. 전체\n",
      "2. 기초\n",
      "3. 색조\n",
      "------------------------------\n",
      "\n",
      "▽▽▽▽▽▽▽▽▽▽▽▽▽▽▽▽▽▽▽\n",
      "\n",
      "요청 문장: 여드름성 피부에 좋은 로션\n",
      "🌼색조 카테고리의 리뷰들 중 가장 유사한 5개 리뷰문장🌼\n",
      "\n",
      "1 [한정기획]클리오 킬커버 더뉴 파운웨어 쿠션 기획(본품+리필+와인잔2P+마커펜) \n",
      " ▶ (보습력 강한 토너 사용하는 것도 중요) (Score: 0.7599)\n",
      "2 [어워즈기획]에스쁘아 프로테일러 비벨벳 커버쿠션(본품+리필+미니쿠션) \n",
      " ▶ 오일리하지 않은 보습력 좋은 토너 사용 (Score: 0.7235)\n",
      "3 [NEW] 클리오 킬커버 메쉬글로우 쿠션 기획 \n",
      " ▶ 수분크림처럼 부드럽게 발리는데 (Score: 0.7203)\n",
      "4 바닐라코 커버리셔스 얼티밋 화이트 쿠션 본품 14g+리필 14g / 4 colors \n",
      " ▶ 지성 피부분들이 쓰시면 좋을 것 같아요! (Score: 0.7077)\n",
      "5 아이레놀 다크서클 크림 2종 택1 (자연스러운 커버/진한 다크서클 커버) \n",
      " ▶ 자연스럽고 촉촉한 아이크림인데 (Score: 0.6961)\n",
      "\n",
      "△△△△△△△△△△△△△△△△△△\n",
      "\n"
     ]
    }
   ],
   "source": [
    "no = int(input('category'))\n",
    "text = str(input('search_review:'))\n",
    "play_rv(no, text)"
   ]
  },
  {
   "cell_type": "code",
   "execution_count": 7,
   "id": "84b1cb10",
   "metadata": {
    "ExecuteTime": {
     "end_time": "2023-02-02T08:39:50.532247Z",
     "start_time": "2023-02-02T08:39:41.332701Z"
    }
   },
   "outputs": [
    {
     "name": "stdout",
     "output_type": "stream",
     "text": [
      "category3\n",
      "search_review:발색력 좋은 틴트\n",
      "------------------------------\n",
      "★원하는 카테고리를 선택해주세요★\n",
      "1. 전체\n",
      "2. 기초\n",
      "3. 색조\n",
      "------------------------------\n",
      "\n",
      "▽▽▽▽▽▽▽▽▽▽▽▽▽▽▽▽▽▽▽\n",
      "\n",
      "요청 문장: 발색력 좋은 틴트\n",
      "🌼색조 카테고리의 리뷰들 중 가장 유사한 5개 리뷰문장🌼\n",
      "\n",
      "1 페리페라 잉크무드글로이틴트 \n",
      " ▶ 💚 쌩얼에 바르기 좋은 틴트 (Score: 0.9202)\n",
      "2 페리페라 잉크무드글로이틴트 \n",
      " ▶ 촉촉이 틴트치고 지속력도 좋아서 (Score: 0.8835)\n",
      "3 [NEW] 웨이크메이크 워터 컬러링 퓨어 틴트 6color \n",
      " ▶ ✓ 수분감있는 틴트에요! (Score: 0.8641)\n",
      "4 [NEW] 웨이크메이크 워터 컬러링 퓨어 틴트 6color \n",
      " ▶ ✓ 수분감있는 틴트에요! (Score: 0.8641)\n",
      "5 [유튜버 공동개발] 바닐라코 글로우 베일 틴트 3.8g / 5colors \n",
      " ▶ 촉촉이 틴트로 착색도 살짝 있음. (Score: 0.8561)\n",
      "\n",
      "△△△△△△△△△△△△△△△△△△\n",
      "\n"
     ]
    }
   ],
   "source": [
    "no = int(input('category'))\n",
    "text = str(input('search_review:'))\n",
    "play_rv(no, text)"
   ]
  },
  {
   "cell_type": "code",
   "execution_count": 18,
   "id": "7c50a19c",
   "metadata": {
    "ExecuteTime": {
     "end_time": "2023-02-02T12:36:29.520080Z",
     "start_time": "2023-02-02T12:36:23.066273Z"
    }
   },
   "outputs": [
    {
     "name": "stdout",
     "output_type": "stream",
     "text": [
      "category3\n",
      "search_review:립스틱\n",
      "------------------------------\n",
      "★원하는 카테고리를 선택해주세요★\n",
      "1. 전체\n",
      "2. 기초\n",
      "3. 색조\n",
      "------------------------------\n",
      "\n",
      "▽▽▽▽▽▽▽▽▽▽▽▽▽▽▽▽▽▽▽\n",
      "\n",
      "요청 문장: 립스틱\n",
      "🌼색조 카테고리의 리뷰들 중 가장 유사한 5개 리뷰문장🌼\n",
      "\n",
      "[[1, '3CE 소프트 매트 립스틱', '🍋  립스틱', tensor(0.9379)]]\n",
      "1 3CE 소프트 매트 립스틱 \n",
      " ▶ 🍋  립스틱 (Score: 0.9379)\n",
      "[[1, '3CE 소프트 매트 립스틱', '🍋  립스틱', tensor(0.9379)], [2, '[NEW] 컬러그램 올인원 오버립 메이커 2종', '립스틱을 이렇게', tensor(0.8671)]]\n",
      "2 [NEW] 컬러그램 올인원 오버립 메이커 2종 \n",
      " ▶ 립스틱을 이렇게 (Score: 0.8671)\n",
      "[[1, '3CE 소프트 매트 립스틱', '🍋  립스틱', tensor(0.9379)], [2, '[NEW] 컬러그램 올인원 오버립 메이커 2종', '립스틱을 이렇게', tensor(0.8671)], [3, '[NEW] 페리페라 잉크더벨벳AD 기상청컬렉션 컬러추가', '*립브러쉬를 사용해준다!', tensor(0.8086)]]\n",
      "3 [NEW] 페리페라 잉크더벨벳AD 기상청컬렉션 컬러추가 \n",
      " ▶ *립브러쉬를 사용해준다! (Score: 0.8086)\n",
      "[[1, '3CE 소프트 매트 립스틱', '🍋  립스틱', tensor(0.9379)], [2, '[NEW] 컬러그램 올인원 오버립 메이커 2종', '립스틱을 이렇게', tensor(0.8671)], [3, '[NEW] 페리페라 잉크더벨벳AD 기상청컬렉션 컬러추가', '*립브러쉬를 사용해준다!', tensor(0.8086)], [4, '[NEW] 페리페라 잉크더벨벳AD 기상청컬렉션 컬러추가', '립브러쉬 받았고', tensor(0.7995)]]\n",
      "4 [NEW] 페리페라 잉크더벨벳AD 기상청컬렉션 컬러추가 \n",
      " ▶ 립브러쉬 받았고 (Score: 0.7995)\n",
      "[[1, '3CE 소프트 매트 립스틱', '🍋  립스틱', tensor(0.9379)], [2, '[NEW] 컬러그램 올인원 오버립 메이커 2종', '립스틱을 이렇게', tensor(0.8671)], [3, '[NEW] 페리페라 잉크더벨벳AD 기상청컬렉션 컬러추가', '*립브러쉬를 사용해준다!', tensor(0.8086)], [4, '[NEW] 페리페라 잉크더벨벳AD 기상청컬렉션 컬러추가', '립브러쉬 받았고', tensor(0.7995)], [5, '[2022어워즈] 롬앤 블러 퍼지 틴트', '롬앤의 블러 퍼지 틴트.', tensor(0.7976)]]\n",
      "5 [2022어워즈] 롬앤 블러 퍼지 틴트 \n",
      " ▶ 롬앤의 블러 퍼지 틴트. (Score: 0.7976)\n",
      "\n",
      "△△△△△△△△△△△△△△△△△△\n",
      "\n"
     ]
    }
   ],
   "source": [
    "no = int(input('category'))\n",
    "text = str(input('search_review:'))\n",
    "answer = play_rv2(no, text)"
   ]
  },
  {
   "cell_type": "code",
   "execution_count": 24,
   "id": "3da64328",
   "metadata": {
    "ExecuteTime": {
     "end_time": "2023-02-02T12:38:14.781547Z",
     "start_time": "2023-02-02T12:38:14.768005Z"
    }
   },
   "outputs": [
    {
     "name": "stdout",
     "output_type": "stream",
     "text": [
      "None\n"
     ]
    }
   ],
   "source": [
    "print(answer)"
   ]
  },
  {
   "cell_type": "code",
   "execution_count": 22,
   "id": "9cc46886",
   "metadata": {
    "ExecuteTime": {
     "end_time": "2023-02-02T12:37:48.532445Z",
     "start_time": "2023-02-02T12:37:41.447130Z"
    }
   },
   "outputs": [
    {
     "name": "stdout",
     "output_type": "stream",
     "text": [
      "category3\n",
      "search_review:발색력 좋은 립스틱\n",
      "------------------------------\n",
      "★원하는 카테고리를 선택해주세요★\n",
      "1. 전체\n",
      "2. 기초\n",
      "3. 색조\n",
      "------------------------------\n",
      "\n",
      "▽▽▽▽▽▽▽▽▽▽▽▽▽▽▽▽▽▽▽\n",
      "\n",
      "요청 문장: 발색력 좋은 립스틱\n",
      "🌼색조 카테고리의 리뷰들 중 가장 유사한 5개 리뷰문장🌼\n",
      "\n",
      "1 [NEW] 롬앤 글래스팅 멜팅 밤 \n",
      " ▶ 립밤같지 않게 발색이 참 좋아요 (Score: 0.8378)\n",
      "2 [NEW] 컬러그램 올인원 오버립 메이커 2종 \n",
      " ▶ 립스틱을 이렇게 (Score: 0.8328)\n",
      "3 [NEW] 무지개맨션 오브제 리퀴드 \n",
      " ▶ 발색력👍👍 (Score: 0.8307)\n",
      "4 [NEW] 무지개맨션 오브제 리퀴드 \n",
      " ▶ 발색력👍👍 (Score: 0.8307)\n",
      "5 페리페라 잉크무드 매트스틱 \n",
      " ▶ 👉👉 제 얼굴에는 립스틱만 바르면 이상해서 립스틱 바른 후에 촉촉한 틴트 발라주면 발색 완전 예쁨 (Score: 0.8300)\n",
      "\n",
      "△△△△△△△△△△△△△△△△△△\n",
      "\n"
     ]
    }
   ],
   "source": [
    "no = int(input('category'))\n",
    "text = str(input('search_review:'))\n",
    "answer = play_rv2(no, text)"
   ]
  },
  {
   "cell_type": "code",
   "execution_count": 23,
   "id": "b7433cd1",
   "metadata": {
    "ExecuteTime": {
     "end_time": "2023-02-02T12:38:09.755016Z",
     "start_time": "2023-02-02T12:38:09.736690Z"
    }
   },
   "outputs": [],
   "source": [
    "answer"
   ]
  },
  {
   "cell_type": "code",
   "execution_count": null,
   "id": "2f4cb33e",
   "metadata": {},
   "outputs": [],
   "source": []
  }
 ],
 "metadata": {
  "hide_input": false,
  "kernelspec": {
   "display_name": "Python 3 (ipykernel)",
   "language": "python",
   "name": "python3"
  },
  "language_info": {
   "codemirror_mode": {
    "name": "ipython",
    "version": 3
   },
   "file_extension": ".py",
   "mimetype": "text/x-python",
   "name": "python",
   "nbconvert_exporter": "python",
   "pygments_lexer": "ipython3",
   "version": "3.9.7"
  },
  "toc": {
   "base_numbering": 1,
   "nav_menu": {},
   "number_sections": true,
   "sideBar": true,
   "skip_h1_title": false,
   "title_cell": "Table of Contents",
   "title_sidebar": "Contents",
   "toc_cell": false,
   "toc_position": {},
   "toc_section_display": true,
   "toc_window_display": false
  }
 },
 "nbformat": 4,
 "nbformat_minor": 5
}

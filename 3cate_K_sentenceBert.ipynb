{
 "cells": [
  {
   "cell_type": "markdown",
   "id": "ac7787cb",
   "metadata": {},
   "source": [
    "## 필수 라이브러리 로딩"
   ]
  },
  {
   "cell_type": "code",
   "execution_count": 1,
   "id": "391866f4",
   "metadata": {
    "ExecuteTime": {
     "end_time": "2023-01-31T01:58:29.258502Z",
     "start_time": "2023-01-31T01:58:19.926807Z"
    }
   },
   "outputs": [
    {
     "name": "stderr",
     "output_type": "stream",
     "text": [
      "The tokenizer class you load from this checkpoint is not the same type as the class this function is called from. It may result in unexpected tokenization. \n",
      "The tokenizer class you load from this checkpoint is 'BertTokenizer'. \n",
      "The class this function is called from is 'KoBertTokenizer'.\n"
     ]
    }
   ],
   "source": [
    "#!pip install ko-sentence-transformers \n",
    "from sentence_transformers import SentenceTransformer, models\n",
    "from ko_sentence_transformers.models import KoBertTransformer\n",
    "\n",
    "# Model loading\n",
    "word_embedding_model = KoBertTransformer(\"monologg/kobert\", max_seq_length=75)\n",
    "pooling_model = models.Pooling(word_embedding_model.get_word_embedding_dimension(), pooling_mode='mean')\n",
    "model = SentenceTransformer(modules=[word_embedding_model, pooling_model])\n",
    "\n",
    "from sentence_transformers import SentenceTransformer, util\n",
    "import numpy as np\n",
    "import pandas as pd\n",
    "\n",
    "# embedder loading\n",
    "embedder = SentenceTransformer(\"jhgan/ko-sbert-sts\")"
   ]
  },
  {
   "cell_type": "markdown",
   "id": "207c25fd",
   "metadata": {},
   "source": [
    "## 데이터 로딩"
   ]
  },
  {
   "cell_type": "code",
   "execution_count": 2,
   "id": "4e090ca9",
   "metadata": {
    "ExecuteTime": {
     "end_time": "2023-01-31T01:58:29.351642Z",
     "start_time": "2023-01-31T01:58:29.259500Z"
    }
   },
   "outputs": [
    {
     "data": {
      "text/plain": [
       "<bound method DataFrame.info of      cate   brand                                              pname  \\\n",
       "0      토너    넘버즈인  [대용량+미니어처] 넘버즈인 3번 결광가득 에센스 토너 300ml 어워즈 한정기획 ...   \n",
       "1      토너    넘버즈인  [대용량+미니어처] 넘버즈인 3번 결광가득 에센스 토너 300ml 어워즈 한정기획 ...   \n",
       "2      토너    넘버즈인  [대용량+미니어처] 넘버즈인 3번 결광가득 에센스 토너 300ml 어워즈 한정기획 ...   \n",
       "3      토너    넘버즈인  [대용량+미니어처] 넘버즈인 3번 결광가득 에센스 토너 300ml 어워즈 한정기획 ...   \n",
       "4      토너    넘버즈인  [대용량+미니어처] 넘버즈인 3번 결광가득 에센스 토너 300ml 어워즈 한정기획 ...   \n",
       "...   ...     ...                                                ...   \n",
       "3339   아이  홀리카홀리카                              홀리카홀리카 마이페이브 무드 아이팔레트   \n",
       "3340   아이  홀리카홀리카                              홀리카홀리카 마이페이브 무드 아이팔레트   \n",
       "3341   아이  홀리카홀리카                              홀리카홀리카 마이페이브 무드 아이팔레트   \n",
       "3342   아이  홀리카홀리카                              홀리카홀리카 마이페이브 무드 아이팔레트   \n",
       "3343   아이  홀리카홀리카                              홀리카홀리카 마이페이브 무드 아이팔레트   \n",
       "\n",
       "                            price  tstar  star  \\\n",
       "0     32,000\\n원\\n24,000\\n원\\n혜택 정보    4.7     5   \n",
       "1     32,000\\n원\\n24,000\\n원\\n혜택 정보    4.7     5   \n",
       "2     32,000\\n원\\n24,000\\n원\\n혜택 정보    4.7     4   \n",
       "3     32,000\\n원\\n24,000\\n원\\n혜택 정보    4.7     4   \n",
       "4     32,000\\n원\\n24,000\\n원\\n혜택 정보    4.7     5   \n",
       "...                           ...    ...   ...   \n",
       "3339  28,000\\n원\\n21,000\\n원\\n혜택 정보    4.7     4   \n",
       "3340  28,000\\n원\\n21,000\\n원\\n혜택 정보    4.7     4   \n",
       "3341  28,000\\n원\\n21,000\\n원\\n혜택 정보    4.7     5   \n",
       "3342  28,000\\n원\\n21,000\\n원\\n혜택 정보    4.7     5   \n",
       "3343  28,000\\n원\\n21,000\\n원\\n혜택 정보    4.7     5   \n",
       "\n",
       "                                                keyword  \\\n",
       "0           피부타입\\n건성에 좋아요\\n피부고민\\n보습에 좋아요\\n자극도\\n자극없이 순해요   \n",
       "1             피부타입\\n복합성에 좋아요\\n피부고민\\n보습에 좋아요\\n자극도\\n보통이에요   \n",
       "2           피부타입\\n지성에 좋아요\\n피부고민\\n진정에 좋아요\\n자극도\\n자극없이 순해요   \n",
       "3              피부타입\\n건성에 좋아요\\n피부고민\\n보습에 좋아요\\n자극도\\n보통이에요   \n",
       "4          피부타입\\n복합성에 좋아요\\n피부고민\\n보습에 좋아요\\n자극도\\n자극없이 순해요   \n",
       "...                                                 ...   \n",
       "3339  발색력\\n아주 만족해요\\n지속력\\n지속이 오래돼요\\n가루날림\\n날림이 있어요\\n펄감...   \n",
       "3340     발색력\\n보통이에요\\n지속력\\n보통이에요\\n가루날림\\n보통이에요\\n펄감\\n보통이에요   \n",
       "3341   발색력\\n아주 만족해요\\n지속력\\n보통이에요\\n가루날림\\n보통이에요\\n펄감\\n보통이에요   \n",
       "3342     발색력\\n보통이에요\\n지속력\\n보통이에요\\n가루날림\\n보통이에요\\n펄감\\n보통이에요   \n",
       "3343  발색력\\n아주 만족해요\\n지속력\\n보통이에요\\n가루날림\\n보통이에요\\n펄감\\n펄감이...   \n",
       "\n",
       "                                                     rv  \n",
       "0     🧡기존에 사용하던 토너가 좀 라이트 하게 느껴져서\\n겨울용 토너로 넘버즈인 결광가득...  \n",
       "1     ★ 넘버즈인 3번 결광가득 토너 \\n\\n※글쓴이 피부타입 수부지 예민한 트러블 피부...  \n",
       "2     ✔️건성보다는 지성에게 추천\\n\\n제품은 300ml의 대용량으로 \\n결광케어키트 5...  \n",
       "3     올영에서 항상 상위권에 랭크되는 제품이고 상품평이 좋아 구매해 보았어요. \\n이유 ...  \n",
       "4     극지성 피부인데 날이 갑자기 추워지면서 건조함을 느껴서 구매해봤어요. 촉촉한데 유분...  \n",
       "...                                                 ...  \n",
       "3339  저는 겨울쿨 비비드에요\\n진짜 웬만한 섀도우는 안맞아서 힘들었는데\\n퍼스널컬러 받을...  \n",
       "3340  살까말까 고민하는데 자꾸 품절되었다가 풀렸다 저랑 밀당을 하더라구요. 그래서 완전품...  \n",
       "3341  ㅠㅠ너무 예뻐요ㅠㅠ\\n피부가 아주 밝은 편이라 흰끼가 좀 있어야 자연스러운데, 이거...  \n",
       "3342  요즘잘쓰는팔레트 하지만 저는 진하게올리면 안어울리는 얼굴이라 음영많이안줘요 가격도 ...  \n",
       "3343  겨쿨딥으로서 전체 아홉 컬러 모두 잘 활용 중이에요ෆ\\n펄이 쿨핑크 / 피치 컬러로...  \n",
       "\n",
       "[3344 rows x 8 columns]>"
      ]
     },
     "execution_count": 2,
     "metadata": {},
     "output_type": "execute_result"
    }
   ],
   "source": [
    "# 데이터 불러오기\n",
    "df = pd.read_csv('DBdata.csv')\n",
    "df.info # 정보 확인"
   ]
  },
  {
   "cell_type": "code",
   "execution_count": null,
   "id": "96505123",
   "metadata": {},
   "outputs": [],
   "source": []
  },
  {
   "cell_type": "markdown",
   "id": "96470f31",
   "metadata": {},
   "source": [
    "## 클래스 정의"
   ]
  },
  {
   "cell_type": "code",
   "execution_count": 78,
   "id": "98eb8e24",
   "metadata": {
    "ExecuteTime": {
     "end_time": "2023-01-31T03:05:04.310975Z",
     "start_time": "2023-01-31T03:05:04.297014Z"
    }
   },
   "outputs": [],
   "source": [
    "class Test:\n",
    "    \n",
    "    def __init__(self):\n",
    "        pass\n",
    "    \n",
    "    def data_split(self):\n",
    "        cate = str(input('cate를 입력하시오.'))\n",
    "        if cate == '전체':\n",
    "            fir = df[df['cate'] == '토너'].index[0]\n",
    "            las = df[df['cate'] == '아이'].index[-1]\n",
    "        elif cate == '기초':\n",
    "            fir = df[df['cate'] == '토너'].index[0]\n",
    "            las = df[df['cate'] == '미스트'].index[-1]\n",
    "        elif cate == '색조':\n",
    "            fir = df[df['cate'] == '립'].index[0]\n",
    "            las = df[df['cate'] == '아이'].index[-1]\n",
    "        else:\n",
    "            fir = df[df['cate']== cate].index[0]\n",
    "            las = df[df['cate'] == cate].index[-1]\n",
    "            \n",
    "        texts = ''\n",
    "        for line in df.rv.loc[fir:las + 1]:\n",
    "            texts = texts + line\n",
    "        text = list(filter(None, texts.split(sep='\\n')))\n",
    "        \n",
    "\n",
    "        return text\n",
    "    \n",
    "    def cor_text(self, text):\n",
    "        corpus = text\n",
    "        embedding = embedder.encode(corpus, convert_to_tensor = True)\n",
    "        \n",
    "        return corpus, embedding\n",
    "\n",
    "        "
   ]
  },
  {
   "cell_type": "code",
   "execution_count": 79,
   "id": "ce481e9e",
   "metadata": {
    "ExecuteTime": {
     "end_time": "2023-01-31T03:07:08.513354Z",
     "start_time": "2023-01-31T03:05:43.998734Z"
    }
   },
   "outputs": [
    {
     "name": "stdout",
     "output_type": "stream",
     "text": [
      "cate를 입력하시오.토너\n"
     ]
    }
   ],
   "source": [
    "t = Test()\n",
    "text = t.data_split()\n",
    "s1_corpus, s1_embedding = t.cor_text(text)"
   ]
  },
  {
   "cell_type": "code",
   "execution_count": null,
   "id": "2808c48e",
   "metadata": {},
   "outputs": [],
   "source": [
    "class Test2(Test):\n",
    "    def __init__(self):\n",
    "        pass\n",
    "    def menu():\n",
    "        print('-'*30)\n",
    "        print('★원하는 카테고리를 선택해주세요★')\n",
    "        print('1. 전체')\n",
    "        print('2. 기초')\n",
    "        print('3. 색조')\n",
    "        print('-'*30)\n",
    "        \n",
    "    def choice():\n",
    "        num = int(input('카테고리를 선택해주세요'))\n",
    "        if num == 1:\n",
    "            embed = tonner_embedding\n",
    "            corpus = tonner_corpus\n",
    "            cate = '전체'\n",
    "        elif num == 2:\n",
    "            embed = essence_embedding\n",
    "            corpus = essence_corpus\n",
    "            cate = '에센스'\n",
    "        elif num == 3:\n",
    "            embed = mist_embedding\n",
    "            corpus = mist_corpus\n",
    "            cate = '미스트'\n",
    "        "
   ]
  },
  {
   "cell_type": "code",
   "execution_count": 67,
   "id": "33387834",
   "metadata": {
    "ExecuteTime": {
     "end_time": "2023-01-31T02:41:40.663908Z",
     "start_time": "2023-01-31T02:41:40.646293Z"
    }
   },
   "outputs": [],
   "source": [
    "class Olive:\n",
    "    \n",
    "    cate = str()\n",
    "    # class 생성자\n",
    "    def __init__(self, cate):\n",
    "          self.cate = cate # 클래스 멤버\n",
    "#         self.fir = fir\n",
    "#         self.las = las\n",
    "#         self.text = text\n",
    "   \n",
    "    # 카테고리 호출\n",
    "    def cate_return(self):\n",
    "        return self.cate\n",
    "\n",
    "    ## 이건 없어도 됨.    \n",
    "#     def db_call(self):\n",
    "#         df = pd.read_csv('DBdata.csv')\n",
    "#         return df\n",
    "    \n",
    "    @classmethod    \n",
    "    def data_split(self,cate):\n",
    "        #cate = cate_return()\n",
    "        if cate == '전체':\n",
    "            fir = df[df['cate'] == '토너'].index[0]\n",
    "            las = df[df['cate'] == '아이'].index[-1]\n",
    "        elif cate == '기초':\n",
    "            fir = df[df['cate'] == '토너'].index[0]\n",
    "            las = df[df['cate'] == '미스트'].index[-1]\n",
    "        elif cate == '색조':\n",
    "            fir = df[df['cate'] == '립'].index[0]\n",
    "            las = df[df['cate'] == '아이'].index[-1]\n",
    "        else:\n",
    "            fir = df[df['cate']== cate].index[0]\n",
    "            las = df[df['cate'] == cate].index[-1]\n",
    "\n",
    "        return print(fir, las)\n",
    "        \n",
    "        "
   ]
  },
  {
   "cell_type": "markdown",
   "id": "8d1d8414",
   "metadata": {},
   "source": [
    "- 음... 일단 데이터 프레임도 클래스로 불러와야 진행이 될듯 싶네.. 그리고 다음 함수들에도 적용할때 변수로 받아야 하나 싶기도 하고,,, 자기네들끼리 못불러오나?"
   ]
  },
  {
   "cell_type": "code",
   "execution_count": 64,
   "id": "f5b2b3dd",
   "metadata": {
    "ExecuteTime": {
     "end_time": "2023-01-31T02:40:04.835024Z",
     "start_time": "2023-01-31T02:40:04.702523Z"
    }
   },
   "outputs": [
    {
     "name": "stdout",
     "output_type": "stream",
     "text": [
      "0 525\n"
     ]
    }
   ],
   "source": [
    "o =Olive('토너')\n",
    "cate = o.cate_return()\n",
    "df = o.db_call()\n",
    "o.data_split(cate,df)"
   ]
  },
  {
   "cell_type": "code",
   "execution_count": 68,
   "id": "8ad57285",
   "metadata": {
    "ExecuteTime": {
     "end_time": "2023-01-31T02:41:43.340047Z",
     "start_time": "2023-01-31T02:41:43.331000Z"
    }
   },
   "outputs": [
    {
     "name": "stdout",
     "output_type": "stream",
     "text": [
      "0 3343\n"
     ]
    }
   ],
   "source": [
    "c = Olive('전체')\n",
    "cate = c.cate_return()\n",
    "c.data_split(cate)"
   ]
  },
  {
   "cell_type": "code",
   "execution_count": 69,
   "id": "62458d19",
   "metadata": {
    "ExecuteTime": {
     "end_time": "2023-01-31T02:42:02.679311Z",
     "start_time": "2023-01-31T02:42:02.666330Z"
    }
   },
   "outputs": [
    {
     "name": "stdout",
     "output_type": "stream",
     "text": [
      "526 1108\n"
     ]
    }
   ],
   "source": [
    "n = Olive('에센스')\n",
    "cate = n.cate_return()\n",
    "n.data_split(cate)"
   ]
  },
  {
   "cell_type": "code",
   "execution_count": null,
   "id": "553f1972",
   "metadata": {},
   "outputs": [],
   "source": []
  }
 ],
 "metadata": {
  "hide_input": false,
  "kernelspec": {
   "display_name": "Python 3 (ipykernel)",
   "language": "python",
   "name": "python3"
  },
  "language_info": {
   "codemirror_mode": {
    "name": "ipython",
    "version": 3
   },
   "file_extension": ".py",
   "mimetype": "text/x-python",
   "name": "python",
   "nbconvert_exporter": "python",
   "pygments_lexer": "ipython3",
   "version": "3.9.7"
  },
  "toc": {
   "base_numbering": 1,
   "nav_menu": {},
   "number_sections": true,
   "sideBar": true,
   "skip_h1_title": false,
   "title_cell": "Table of Contents",
   "title_sidebar": "Contents",
   "toc_cell": false,
   "toc_position": {},
   "toc_section_display": true,
   "toc_window_display": false
  }
 },
 "nbformat": 4,
 "nbformat_minor": 5
}

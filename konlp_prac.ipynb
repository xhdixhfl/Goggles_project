{
 "cells": [
  {
   "cell_type": "code",
   "execution_count": 1,
   "id": "e4b205a3-a8fc-42bd-9029-4e29585cf2c4",
   "metadata": {},
   "outputs": [
    {
     "name": "stdout",
     "output_type": "stream",
     "text": [
      "Collecting konlpy\n",
      "  Downloading konlpy-0.6.0-py2.py3-none-any.whl (19.4 MB)\n",
      "Requirement already satisfied: JPype1>=0.7.0 in c:\\anaconda3\\lib\\site-packages (from konlpy) (1.4.1)\n",
      "Requirement already satisfied: lxml>=4.1.0 in c:\\anaconda3\\lib\\site-packages (from konlpy) (4.6.3)\n",
      "Requirement already satisfied: numpy>=1.6 in c:\\anaconda3\\lib\\site-packages (from konlpy) (1.23.5)\n",
      "Requirement already satisfied: packaging in c:\\anaconda3\\lib\\site-packages (from JPype1>=0.7.0->konlpy) (21.0)\n",
      "Requirement already satisfied: pyparsing>=2.0.2 in c:\\anaconda3\\lib\\site-packages (from packaging->JPype1>=0.7.0->konlpy) (3.0.4)\n",
      "Installing collected packages: konlpy\n",
      "Successfully installed konlpy-0.6.0\n"
     ]
    }
   ],
   "source": [
    "#!pip install konlpy"
   ]
  },
  {
   "cell_type": "code",
   "execution_count": 1,
   "id": "62b8b3a9-96de-4fbf-bafc-cea1ceefc001",
   "metadata": {},
   "outputs": [],
   "source": [
    "from konlpy.tag import Kkma\n",
    "from konlpy.utils import pprint"
   ]
  },
  {
   "cell_type": "code",
   "execution_count": 2,
   "id": "5b787591-fbe2-46c3-847d-53adb5e3eb8b",
   "metadata": {},
   "outputs": [],
   "source": [
    "kkma = Kkma()"
   ]
  },
  {
   "cell_type": "code",
   "execution_count": 3,
   "id": "f38c8514-4d54-416d-b9af-b0b3bc3291f9",
   "metadata": {},
   "outputs": [
    {
     "name": "stdout",
     "output_type": "stream",
     "text": [
      "['수분', '기본', '피부', '주름', '개선', '이번', '사은품']\n"
     ]
    }
   ],
   "source": [
    "pprint(kkma.nouns(u'수분은 기본으로 피부 주름 개선에이번에는 사은품도 들어있네요'))## 우루오스"
   ]
  },
  {
   "cell_type": "code",
   "execution_count": 4,
   "id": "852fa2fa-1157-4bca-bd6f-a19d24c689ef",
   "metadata": {},
   "outputs": [
    {
     "name": "stdout",
     "output_type": "stream",
     "text": [
      "['이것', '저것', '선물', '구입', '상품']\n"
     ]
    }
   ],
   "source": [
    "pprint(kkma.nouns(u'🧑🏻이것저것 바르지 않아도 되고너무 좋아서 선물용으로 구입하게 된 상품입니다'))"
   ]
  },
  {
   "cell_type": "code",
   "execution_count": 5,
   "id": "d7d8123b-fdf4-4871-8205-ff0e7c28b1ae",
   "metadata": {},
   "outputs": [],
   "source": [
    "a = '건성인 저에게는 조금 수분감은 부족했고 어성초라 그런지 여드름 같은 이런거에 진정주기에는 좋았어요 !! 가끔 신경쓰일때 팩은 저에게 오히려 독이되서 그냥 가볍게 스킨케어 식으로 해줬는데 좋더라구요 .'"
   ]
  },
  {
   "cell_type": "code",
   "execution_count": 6,
   "id": "1abbe9e6-5792-42ae-856e-630dacbd07ef",
   "metadata": {},
   "outputs": [
    {
     "name": "stdout",
     "output_type": "stream",
     "text": [
      "['건성',\n",
      " '저',\n",
      " '수분',\n",
      " '부족',\n",
      " '어성',\n",
      " '어성초라',\n",
      " '초라',\n",
      " '여드름',\n",
      " '거',\n",
      " '진정',\n",
      " '진정주기',\n",
      " '주기',\n",
      " '신경',\n",
      " '때',\n",
      " '팩',\n",
      " '독',\n",
      " '스킨',\n",
      " '스킨케어',\n",
      " '케어',\n",
      " '식']\n"
     ]
    }
   ],
   "source": [
    "pprint(kkma.nouns(a))"
   ]
  },
  {
   "cell_type": "code",
   "execution_count": 118,
   "id": "173a2656-71b3-4fe9-b2b2-0679843e70e9",
   "metadata": {},
   "outputs": [
    {
     "ename": "SyntaxError",
     "evalue": "invalid syntax (Temp/ipykernel_13760/2171375322.py, line 2)",
     "output_type": "error",
     "traceback": [
      "\u001b[1;36m  File \u001b[1;32m\"C:\\Users\\admin\\AppData\\Local\\Temp/ipykernel_13760/2171375322.py\"\u001b[1;36m, line \u001b[1;32m2\u001b[0m\n\u001b[1;33m    if x[i][1]\u001b[0m\n\u001b[1;37m              ^\u001b[0m\n\u001b[1;31mSyntaxError\u001b[0m\u001b[1;31m:\u001b[0m invalid syntax\n"
     ]
    }
   ],
   "source": [
    "x = kkma.pos(a)\n",
    "if x[i][1]"
   ]
  },
  {
   "cell_type": "code",
   "execution_count": 20,
   "id": "e06ee9db-6325-4acf-9c5c-90d3f9be8ec5",
   "metadata": {},
   "outputs": [
    {
     "data": {
      "text/plain": [
       "list"
      ]
     },
     "execution_count": 20,
     "metadata": {},
     "output_type": "execute_result"
    }
   ],
   "source": [
    "verb = []\n",
    "ajt = []\n",
    "nn = []\n",
    "for i in range(len(x)):\n",
    "    if x[i][1] == 'VV':\n",
    "        verb.append(x[i][0])"
   ]
  },
  {
   "cell_type": "code",
   "execution_count": 22,
   "id": "f6da4e52-32b3-4d16-a163-525af0e62af7",
   "metadata": {},
   "outputs": [],
   "source": [
    "from konlpy.tag import Okt\n",
    "tw = Okt()"
   ]
  },
  {
   "cell_type": "code",
   "execution_count": 23,
   "id": "aa19be58-6265-42c1-bfb7-6e4f4bddac9a",
   "metadata": {},
   "outputs": [
    {
     "data": {
      "text/plain": [
       "'Josa'"
      ]
     },
     "execution_count": 23,
     "metadata": {},
     "output_type": "execute_result"
    }
   ],
   "source": [
    "x = tw.pos(a)\n",
    "x[1][1]"
   ]
  },
  {
   "cell_type": "code",
   "execution_count": 26,
   "id": "722be2e3-02bd-4b68-a7a8-330ab727e59d",
   "metadata": {},
   "outputs": [
    {
     "data": {
      "text/plain": [
       "'Noun'"
      ]
     },
     "execution_count": 26,
     "metadata": {},
     "output_type": "execute_result"
    }
   ],
   "source": [
    "x[5][1]"
   ]
  },
  {
   "cell_type": "code",
   "execution_count": 27,
   "id": "f7cd232b-01b7-428a-8c7e-a4c21b3bac6f",
   "metadata": {
    "tags": []
   },
   "outputs": [
    {
     "data": {
      "text/plain": [
       "[('건성', 'Noun'),\n",
       " ('인', 'Josa'),\n",
       " ('저', 'Noun'),\n",
       " ('에게는', 'Josa'),\n",
       " ('조금', 'Noun'),\n",
       " ('수분', 'Noun'),\n",
       " ('감은', 'Verb'),\n",
       " ('부족했고', 'Adjective'),\n",
       " ('어성초', 'Noun'),\n",
       " ('라', 'Josa'),\n",
       " ('그런지', 'Adjective'),\n",
       " ('여드름', 'Noun'),\n",
       " ('같은', 'Adjective'),\n",
       " ('이런', 'Modifier'),\n",
       " ('거', 'Noun'),\n",
       " ('에', 'Josa'),\n",
       " ('진정', 'Noun'),\n",
       " ('주기', 'Noun'),\n",
       " ('에는', 'Josa'),\n",
       " ('좋았어요', 'Adjective'),\n",
       " ('!!', 'Punctuation'),\n",
       " ('가끔', 'Noun'),\n",
       " ('신경', 'Noun'),\n",
       " ('쓰일', 'Verb'),\n",
       " ('때', 'Noun'),\n",
       " ('팩', 'Noun'),\n",
       " ('은', 'Josa'),\n",
       " ('저', 'Noun'),\n",
       " ('에게', 'Josa'),\n",
       " ('오히려', 'Noun'),\n",
       " ('독', 'Noun'),\n",
       " ('이', 'Josa'),\n",
       " ('되서', 'Verb'),\n",
       " ('그냥', 'Noun'),\n",
       " ('가볍게', 'Adjective'),\n",
       " ('스킨', 'Noun'),\n",
       " ('케어', 'Noun'),\n",
       " ('식', 'Noun'),\n",
       " ('으로', 'Josa'),\n",
       " ('해줬는데', 'Verb'),\n",
       " ('좋더라구요', 'Adjective'),\n",
       " ('.', 'Punctuation')]"
      ]
     },
     "execution_count": 27,
     "metadata": {},
     "output_type": "execute_result"
    }
   ],
   "source": [
    "x  # Noun  Adjective  Verb"
   ]
  },
  {
   "cell_type": "code",
   "execution_count": 32,
   "id": "9d4ed7e5-f1a2-4477-ba8c-75037f3a87d7",
   "metadata": {},
   "outputs": [],
   "source": [
    "verb = []\n",
    "ajt = []\n",
    "nn = []\n",
    "etc=[]\n",
    "for i in range(len(x)):\n",
    "    if x[i][1] == 'Verb':\n",
    "        verb.append(x[i][0])\n",
    "    elif x[i][1] == 'Adjective':\n",
    "        ajt.append(x[i][0])  \n",
    "    elif x[i][1] == 'Noun':\n",
    "        nn.append(x[i][0]) \n",
    "    else:\n",
    "        etc.append(x[i][0])"
   ]
  },
  {
   "cell_type": "code",
   "execution_count": 30,
   "id": "b12ee9a6-12da-49a6-a902-6d1d21a48431",
   "metadata": {},
   "outputs": [
    {
     "data": {
      "text/plain": [
       "['감은', '쓰일', '되서', '해줬는데']"
      ]
     },
     "execution_count": 30,
     "metadata": {},
     "output_type": "execute_result"
    }
   ],
   "source": [
    "verb"
   ]
  },
  {
   "cell_type": "code",
   "execution_count": 33,
   "id": "c0701b6e-8f48-4c57-9e12-01d855055136",
   "metadata": {},
   "outputs": [
    {
     "data": {
      "text/plain": [
       "['건성',\n",
       " '저',\n",
       " '조금',\n",
       " '수분',\n",
       " '어성초',\n",
       " '여드름',\n",
       " '거',\n",
       " '진정',\n",
       " '주기',\n",
       " '가끔',\n",
       " '신경',\n",
       " '때',\n",
       " '팩',\n",
       " '저',\n",
       " '오히려',\n",
       " '독',\n",
       " '그냥',\n",
       " '스킨',\n",
       " '케어',\n",
       " '식']"
      ]
     },
     "execution_count": 33,
     "metadata": {},
     "output_type": "execute_result"
    }
   ],
   "source": [
    "nn"
   ]
  },
  {
   "cell_type": "markdown",
   "id": "f7fc3a21-636f-41ed-b635-78dfaf79c55d",
   "metadata": {},
   "source": [
    "## 문장가져와서 df로 연습하기\n",
    "- 한 상품 내 제품들을 뽑아다가  리뷰 문장의 단어들수를 비교해서 수가 많은걸 카운트해서 많은순위로 내뱉는거지/\n"
   ]
  },
  {
   "cell_type": "code",
   "execution_count": 85,
   "id": "ed70d3c8-4b69-49fc-9fcc-4c1c9eb55aab",
   "metadata": {},
   "outputs": [],
   "source": [
    "import pandas as pd\n",
    "test = pd.read_csv('real_sets.csv')"
   ]
  },
  {
   "cell_type": "code",
   "execution_count": 86,
   "id": "a8a9189b-8187-4243-a718-8d12c2ef5eed",
   "metadata": {},
   "outputs": [
    {
     "name": "stdout",
     "output_type": "stream",
     "text": [
      "<class 'pandas.core.frame.DataFrame'>\n",
      "RangeIndex: 64958 entries, 0 to 64957\n",
      "Data columns (total 4 columns):\n",
      " #   Column      Non-Null Count  Dtype \n",
      "---  ------      --------------  ----- \n",
      " 0   Unnamed: 0  64958 non-null  int64 \n",
      " 1   star        64958 non-null  int64 \n",
      " 2   keyword     64957 non-null  object\n",
      " 3   rv          58636 non-null  object\n",
      "dtypes: int64(2), object(2)\n",
      "memory usage: 2.0+ MB\n"
     ]
    }
   ],
   "source": [
    "test.info()"
   ]
  },
  {
   "cell_type": "code",
   "execution_count": 108,
   "id": "647635f9-4719-4485-9f41-2967fd77a231",
   "metadata": {},
   "outputs": [],
   "source": [
    "import numpy as np\n",
    "\n",
    "dx = dx.replace(np.nan, 'no')"
   ]
  },
  {
   "cell_type": "code",
   "execution_count": 98,
   "id": "236f1f63-ff98-4f5e-882b-744ef0946da2",
   "metadata": {},
   "outputs": [
    {
     "data": {
      "text/html": [
       "<div>\n",
       "<style scoped>\n",
       "    .dataframe tbody tr th:only-of-type {\n",
       "        vertical-align: middle;\n",
       "    }\n",
       "\n",
       "    .dataframe tbody tr th {\n",
       "        vertical-align: top;\n",
       "    }\n",
       "\n",
       "    .dataframe thead th {\n",
       "        text-align: right;\n",
       "    }\n",
       "</style>\n",
       "<table border=\"1\" class=\"dataframe\">\n",
       "  <thead>\n",
       "    <tr style=\"text-align: right;\">\n",
       "      <th></th>\n",
       "      <th>rv</th>\n",
       "      <th>star</th>\n",
       "    </tr>\n",
       "  </thead>\n",
       "  <tbody>\n",
       "    <tr>\n",
       "      <th>1200</th>\n",
       "      <td>아비브 어성초 라인 정말 좋아라하고 제 피부엔 항상 괜찮아서 다른 제춤 사용하다가도...</td>\n",
       "      <td>5</td>\n",
       "    </tr>\n",
       "    <tr>\n",
       "      <th>1201</th>\n",
       "      <td>두번째 재구매한 토너에요!담번에 또 재구매하려구요~!</td>\n",
       "      <td>5</td>\n",
       "    </tr>\n",
       "    <tr>\n",
       "      <th>1202</th>\n",
       "      <td>이미 두 통이나 비웠고 세일할 때 항상 쟁여놓는 토너 정착템 . . . 🥺💖 어성초...</td>\n",
       "      <td>5</td>\n",
       "    </tr>\n",
       "    <tr>\n",
       "      <th>1203</th>\n",
       "      <td>워낙 유명한 제품이고 다른 브랜드에서 어성초 토너 써봤는데 괜찮았어서 구매하게 되었...</td>\n",
       "      <td>5</td>\n",
       "    </tr>\n",
       "    <tr>\n",
       "      <th>1204</th>\n",
       "      <td>평소 잡티로 고민해서 구매하게 되었어요. 지성인에게 너무 적합한 제품이라도 하네요 ...</td>\n",
       "      <td>5</td>\n",
       "    </tr>\n",
       "    <tr>\n",
       "      <th>...</th>\n",
       "      <td>...</td>\n",
       "      <td>...</td>\n",
       "    </tr>\n",
       "    <tr>\n",
       "      <th>2395</th>\n",
       "      <td>NaN</td>\n",
       "      <td>5</td>\n",
       "    </tr>\n",
       "    <tr>\n",
       "      <th>2396</th>\n",
       "      <td>NaN</td>\n",
       "      <td>4</td>\n",
       "    </tr>\n",
       "    <tr>\n",
       "      <th>2397</th>\n",
       "      <td>NaN</td>\n",
       "      <td>5</td>\n",
       "    </tr>\n",
       "    <tr>\n",
       "      <th>2398</th>\n",
       "      <td>NaN</td>\n",
       "      <td>5</td>\n",
       "    </tr>\n",
       "    <tr>\n",
       "      <th>2399</th>\n",
       "      <td>NaN</td>\n",
       "      <td>5</td>\n",
       "    </tr>\n",
       "  </tbody>\n",
       "</table>\n",
       "<p>1200 rows × 2 columns</p>\n",
       "</div>"
      ],
      "text/plain": [
       "                                                     rv  star\n",
       "1200  아비브 어성초 라인 정말 좋아라하고 제 피부엔 항상 괜찮아서 다른 제춤 사용하다가도...     5\n",
       "1201                      두번째 재구매한 토너에요!담번에 또 재구매하려구요~!     5\n",
       "1202  이미 두 통이나 비웠고 세일할 때 항상 쟁여놓는 토너 정착템 . . . 🥺💖 어성초...     5\n",
       "1203  워낙 유명한 제품이고 다른 브랜드에서 어성초 토너 써봤는데 괜찮았어서 구매하게 되었...     5\n",
       "1204  평소 잡티로 고민해서 구매하게 되었어요. 지성인에게 너무 적합한 제품이라도 하네요 ...     5\n",
       "...                                                 ...   ...\n",
       "2395                                                NaN     5\n",
       "2396                                                NaN     4\n",
       "2397                                                NaN     5\n",
       "2398                                                NaN     5\n",
       "2399                                                NaN     5\n",
       "\n",
       "[1200 rows x 2 columns]"
      ]
     },
     "execution_count": 98,
     "metadata": {},
     "output_type": "execute_result"
    }
   ],
   "source": [
    "dx = test[['rv', 'star']]\n",
    "dx = dx[1200:2400]\n",
    "dx"
   ]
  },
  {
   "cell_type": "code",
   "execution_count": 109,
   "id": "6874a542-0800-4ce0-ba5e-ea45465c02e6",
   "metadata": {},
   "outputs": [],
   "source": [
    "xlines = ''\n",
    "\n",
    "for l in dx.rv:\n",
    "        xlines = xlines + l \n",
    "\n",
    "xverb = []\n",
    "xajt = []\n",
    "xnn = []\n",
    "xetc=[]\n",
    "\n",
    "make_ok(xlines)"
   ]
  },
  {
   "cell_type": "code",
   "execution_count": 110,
   "id": "ece36395-adcf-4bfa-b663-72841608c753",
   "metadata": {},
   "outputs": [],
   "source": [
    "x = Counter(xverb).most_common(15)\n",
    "y =  Counter(xajt).most_common(15)\n",
    "z =  Counter(xnn).most_common(15)"
   ]
  },
  {
   "cell_type": "code",
   "execution_count": 112,
   "id": "76a7b9f8-816c-4b1d-b465-ba358059a1e6",
   "metadata": {},
   "outputs": [
    {
     "data": {
      "text/plain": [
       "[]"
      ]
     },
     "execution_count": 112,
     "metadata": {},
     "output_type": "execute_result"
    }
   ],
   "source": [
    "x"
   ]
  },
  {
   "cell_type": "code",
   "execution_count": 87,
   "id": "212d9622-dc75-4ae7-9e88-c6a52bd9e986",
   "metadata": {},
   "outputs": [],
   "source": [
    "df = test[['rv', 'star']]"
   ]
  },
  {
   "cell_type": "code",
   "execution_count": 88,
   "id": "fe93f1fb-0f33-4772-b413-a6f993b66aaf",
   "metadata": {},
   "outputs": [],
   "source": [
    "df = df[:1200]"
   ]
  },
  {
   "cell_type": "code",
   "execution_count": 89,
   "id": "b5a36535-6548-4d7a-9286-06d05f4d4b39",
   "metadata": {},
   "outputs": [
    {
     "data": {
      "text/html": [
       "<div>\n",
       "<style scoped>\n",
       "    .dataframe tbody tr th:only-of-type {\n",
       "        vertical-align: middle;\n",
       "    }\n",
       "\n",
       "    .dataframe tbody tr th {\n",
       "        vertical-align: top;\n",
       "    }\n",
       "\n",
       "    .dataframe thead th {\n",
       "        text-align: right;\n",
       "    }\n",
       "</style>\n",
       "<table border=\"1\" class=\"dataframe\">\n",
       "  <thead>\n",
       "    <tr style=\"text-align: right;\">\n",
       "      <th></th>\n",
       "      <th>rv</th>\n",
       "      <th>star</th>\n",
       "    </tr>\n",
       "  </thead>\n",
       "  <tbody>\n",
       "    <tr>\n",
       "      <th>0</th>\n",
       "      <td>아빠를 위해 두개 샀어요. 피부관리에 소홀하셔서 딸내미가 사주는건 그래도 잘 바르실...</td>\n",
       "      <td>5</td>\n",
       "    </tr>\n",
       "    <tr>\n",
       "      <th>1</th>\n",
       "      <td>남성 제품의 옴므 화장품인데 피부 수분부터 주름 개선,손으로 슥 슥~ 대충 발라도 ...</td>\n",
       "      <td>5</td>\n",
       "    </tr>\n",
       "    <tr>\n",
       "      <th>2</th>\n",
       "      <td>🧑🏻이것저것 바르지 않아도 되고너무 좋아서 선물용으로 구입하게 된 상품입니다.</td>\n",
       "      <td>5</td>\n",
       "    </tr>\n",
       "    <tr>\n",
       "      <th>3</th>\n",
       "      <td>수분은 기본으로 피부 주름 개선에이번에는 사은품도 들어있네요</td>\n",
       "      <td>5</td>\n",
       "    </tr>\n",
       "    <tr>\n",
       "      <th>4</th>\n",
       "      <td>#남사친 생일선물남사친 선물, 기본 올인원 템으로 추천하는 제품입니다!</td>\n",
       "      <td>5</td>\n",
       "    </tr>\n",
       "    <tr>\n",
       "      <th>...</th>\n",
       "      <td>...</td>\n",
       "      <td>...</td>\n",
       "    </tr>\n",
       "    <tr>\n",
       "      <th>1195</th>\n",
       "      <td>⭐️X5 : 만족템 ! 어성초 계열 잘맞는 사람 중에 겨울철이라 살짝 보습감도 챙기...</td>\n",
       "      <td>5</td>\n",
       "    </tr>\n",
       "    <tr>\n",
       "      <th>1196</th>\n",
       "      <td>뉴질랜드 동생이 한국에 잠시 왔을때사용하기 딱 좋은 수분 토너인것 같아요</td>\n",
       "      <td>5</td>\n",
       "    </tr>\n",
       "    <tr>\n",
       "      <th>1197</th>\n",
       "      <td>진짜 순하고 좋은 거 같아요. 이 제품 사용하고 피부가 많이 좋아졌고 여드름도 많이...</td>\n",
       "      <td>4</td>\n",
       "    </tr>\n",
       "    <tr>\n",
       "      <th>1198</th>\n",
       "      <td>아비브 팩으로 입문하고 스킨은 처음 사서 써봤는데 팩이랑은 또 느낌이 달라요양도 조...</td>\n",
       "      <td>1</td>\n",
       "    </tr>\n",
       "    <tr>\n",
       "      <th>1199</th>\n",
       "      <td>어성초가 함유된 제품이 피부 예민한 사람들에게 진정 시키는데 참 좋다고 들어서, 한...</td>\n",
       "      <td>5</td>\n",
       "    </tr>\n",
       "  </tbody>\n",
       "</table>\n",
       "<p>1200 rows × 2 columns</p>\n",
       "</div>"
      ],
      "text/plain": [
       "                                                     rv  star\n",
       "0     아빠를 위해 두개 샀어요. 피부관리에 소홀하셔서 딸내미가 사주는건 그래도 잘 바르실...     5\n",
       "1     남성 제품의 옴므 화장품인데 피부 수분부터 주름 개선,손으로 슥 슥~ 대충 발라도 ...     5\n",
       "2           🧑🏻이것저것 바르지 않아도 되고너무 좋아서 선물용으로 구입하게 된 상품입니다.     5\n",
       "3                     수분은 기본으로 피부 주름 개선에이번에는 사은품도 들어있네요     5\n",
       "4               #남사친 생일선물남사친 선물, 기본 올인원 템으로 추천하는 제품입니다!     5\n",
       "...                                                 ...   ...\n",
       "1195  ⭐️X5 : 만족템 ! 어성초 계열 잘맞는 사람 중에 겨울철이라 살짝 보습감도 챙기...     5\n",
       "1196           뉴질랜드 동생이 한국에 잠시 왔을때사용하기 딱 좋은 수분 토너인것 같아요     5\n",
       "1197  진짜 순하고 좋은 거 같아요. 이 제품 사용하고 피부가 많이 좋아졌고 여드름도 많이...     4\n",
       "1198  아비브 팩으로 입문하고 스킨은 처음 사서 써봤는데 팩이랑은 또 느낌이 달라요양도 조...     1\n",
       "1199  어성초가 함유된 제품이 피부 예민한 사람들에게 진정 시키는데 참 좋다고 들어서, 한...     5\n",
       "\n",
       "[1200 rows x 2 columns]"
      ]
     },
     "execution_count": 89,
     "metadata": {},
     "output_type": "execute_result"
    }
   ],
   "source": [
    "df"
   ]
  },
  {
   "cell_type": "code",
   "execution_count": 90,
   "id": "20849206-3023-4c81-9e01-b657261a51a3",
   "metadata": {},
   "outputs": [],
   "source": [
    "# Okt, twitter 버전으로 품사 분류\n",
    "from konlpy.tag import Okt  # twitter 버전의 형태소 분류\n",
    "ok = Okt()\n",
    "\n",
    "\n",
    "lines = ''\n",
    "\n",
    "for l in df.rv:\n",
    "        lines = lines + l \n",
    "\n",
    "verb = []\n",
    "ajt = []\n",
    "nn = []\n",
    "etc=[]"
   ]
  },
  {
   "cell_type": "code",
   "execution_count": 91,
   "id": "699d60d7-3f88-403a-ba2c-eafb57941832",
   "metadata": {},
   "outputs": [],
   "source": [
    "def make_ok(a, x_l, y_l, z_l):\n",
    "    # 형태소 분석\n",
    "    x = ok.pos(a)\n",
    "    \n",
    "    for i in range(len(x)):\n",
    "        if x[i][1] == 'Verb':\n",
    "            x_l.append(x[i][0])\n",
    "        elif x[i][1] == 'Adjective':\n",
    "            y_l.append(x[i][0])  \n",
    "        elif x[i][1] == 'Noun':\n",
    "            z_l.append(x[i][0]) \n",
    "    else:\n",
    "        etc.append(x[i][0])"
   ]
  },
  {
   "cell_type": "code",
   "execution_count": 92,
   "id": "42731931-519d-481b-bae2-620262dfbdf4",
   "metadata": {},
   "outputs": [],
   "source": [
    "make_ok(lines)"
   ]
  },
  {
   "cell_type": "code",
   "execution_count": 93,
   "id": "3fc80d64-9ccf-40ba-b067-34c676578323",
   "metadata": {},
   "outputs": [
    {
     "data": {
      "text/plain": [
       "5073"
      ]
     },
     "execution_count": 93,
     "metadata": {},
     "output_type": "execute_result"
    }
   ],
   "source": [
    "len(verb)"
   ]
  },
  {
   "cell_type": "code",
   "execution_count": 63,
   "id": "5e1435bc-4707-4b2b-85fa-a6195a3ffb6c",
   "metadata": {},
   "outputs": [],
   "source": [
    "from collections import Counter # 같은 요소 카운트\n"
   ]
  },
  {
   "cell_type": "code",
   "execution_count": 117,
   "id": "a945188a-ae6f-4b04-be33-2d3bab92fb92",
   "metadata": {},
   "outputs": [
    {
     "data": {
      "text/plain": [
       "[('잘', 436),\n",
       " ('해서', 247),\n",
       " ('할', 210),\n",
       " ('써', 188),\n",
       " ('했어요', 157),\n",
       " ('재구매', 149),\n",
       " ('돼요', 148),\n",
       " ('쓰고', 124),\n",
       " ('합니다', 123),\n",
       " ('하는', 121),\n",
       " ('않고', 119),\n",
       " ('했는데', 117),\n",
       " ('하기', 116),\n",
       " ('하게', 104),\n",
       " ('닦', 70)]"
      ]
     },
     "execution_count": 117,
     "metadata": {},
     "output_type": "execute_result"
    }
   ],
   "source": [
    "nverb = Counter(verb)\n",
    "nverb.most_common(15)"
   ]
  },
  {
   "cell_type": "code",
   "execution_count": 115,
   "id": "484016d4-6633-46af-9209-22eb6088b3b6",
   "metadata": {},
   "outputs": [
    {
     "data": {
      "text/plain": [
       "[('같아요', 384),\n",
       " ('좋아요', 361),\n",
       " ('입니다', 252),\n",
       " ('좋은', 232),\n",
       " ('좋고', 143),\n",
       " ('있는', 125),\n",
       " ('있어요', 109),\n",
       " ('좋다고', 106),\n",
       " ('순하고', 105),\n",
       " ('있어서', 96),\n",
       " ('있습니다', 88),\n",
       " ('좋아서', 87),\n",
       " ('없고', 83),\n",
       " ('같은', 76),\n",
       " ('좋습니다', 75)]"
      ]
     },
     "execution_count": 115,
     "metadata": {},
     "output_type": "execute_result"
    }
   ],
   "source": [
    "najt = Counter(ajt)\n",
    "najt.most_common(15)"
   ]
  },
  {
   "cell_type": "code",
   "execution_count": 116,
   "id": "0c38a13f-3993-4ef1-9b21-7f03fea0dfba",
   "metadata": {},
   "outputs": [
    {
     "data": {
      "text/plain": [
       "[('사용', 926),\n",
       " ('제품', 819),\n",
       " ('피부', 760),\n",
       " ('구매', 488),\n",
       " ('것', 475),\n",
       " ('토너', 461),\n",
       " ('이', 379),\n",
       " ('보습', 342),\n",
       " ('올인원', 340),\n",
       " ('로션', 291),\n",
       " ('거', 289),\n",
       " ('향', 286),\n",
       " ('때', 243),\n",
       " ('스킨', 234),\n",
       " ('추천', 218)]"
      ]
     },
     "execution_count": 116,
     "metadata": {},
     "output_type": "execute_result"
    }
   ],
   "source": [
    "nnn = Counter(nn)\n",
    "nnn.most_common(15)"
   ]
  },
  {
   "cell_type": "code",
   "execution_count": 97,
   "id": "987e68d5-9e1d-4833-9732-a31cbcaa1678",
   "metadata": {},
   "outputs": [
    {
     "data": {
      "text/plain": [
       "[('제품', 501),\n",
       " ('사용', 468),\n",
       " ('올인원', 336),\n",
       " ('피부', 307),\n",
       " ('것', 285),\n",
       " ('구매', 281),\n",
       " ('잘', 272),\n",
       " ('같아요', 231),\n",
       " ('향', 207),\n",
       " ('선물', 200),\n",
       " ('좋아요', 197),\n",
       " ('보습', 178),\n",
       " ('거', 164),\n",
       " ('아빠', 163),\n",
       " ('토너', 163),\n",
       " ('해서', 149),\n",
       " ('이', 141),\n",
       " ('입니다', 134),\n",
       " ('좋은', 129),\n",
       " ('때', 113)]"
      ]
     },
     "execution_count": 97,
     "metadata": {},
     "output_type": "execute_result"
    }
   ],
   "source": [
    "total = verb+nn+ajt\n",
    "ntt = Counter(total)\n",
    "ntt.most_common(20)"
   ]
  },
  {
   "cell_type": "code",
   "execution_count": 76,
   "id": "bfea59e0-9713-422f-aacc-f82376248006",
   "metadata": {},
   "outputs": [
    {
     "ename": "SyntaxError",
     "evalue": "invalid syntax (Temp/ipykernel_13760/317929297.py, line 1)",
     "output_type": "error",
     "traceback": [
      "\u001b[1;36m  File \u001b[1;32m\"C:\\Users\\admin\\AppData\\Local\\Temp/ipykernel_13760/317929297.py\"\u001b[1;36m, line \u001b[1;32m1\u001b[0m\n\u001b[1;33m    $apt-get install python-pygame\u001b[0m\n\u001b[1;37m    ^\u001b[0m\n\u001b[1;31mSyntaxError\u001b[0m\u001b[1;31m:\u001b[0m invalid syntax\n"
     ]
    }
   ],
   "source": [
    "apt-get install python-pygame"
   ]
  },
  {
   "cell_type": "code",
   "execution_count": null,
   "id": "77297e0e-9590-4150-b680-178c615377bf",
   "metadata": {},
   "outputs": [],
   "source": []
  }
 ],
 "metadata": {
  "hide_input": false,
  "kernelspec": {
   "display_name": "Python 3 (ipykernel)",
   "language": "python",
   "name": "python3"
  },
  "language_info": {
   "codemirror_mode": {
    "name": "ipython",
    "version": 3
   },
   "file_extension": ".py",
   "mimetype": "text/x-python",
   "name": "python",
   "nbconvert_exporter": "python",
   "pygments_lexer": "ipython3",
   "version": "3.9.7"
  },
  "toc": {
   "base_numbering": 1,
   "nav_menu": {},
   "number_sections": true,
   "sideBar": true,
   "skip_h1_title": false,
   "title_cell": "Table of Contents",
   "title_sidebar": "Contents",
   "toc_cell": false,
   "toc_position": {},
   "toc_section_display": true,
   "toc_window_display": false
  }
 },
 "nbformat": 4,
 "nbformat_minor": 5
}

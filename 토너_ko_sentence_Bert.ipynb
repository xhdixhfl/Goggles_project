{
 "cells": [
  {
   "cell_type": "markdown",
   "id": "ba794c2c",
   "metadata": {},
   "source": [
    "# 필수 라이브러리 loading"
   ]
  },
  {
   "cell_type": "code",
   "execution_count": 5,
   "id": "a44eefba-7490-4b49-ab68-2a587a9e4436",
   "metadata": {
    "ExecuteTime": {
     "end_time": "2023-01-30T05:12:05.921595Z",
     "start_time": "2023-01-30T05:12:02.297171Z"
    }
   },
   "outputs": [
    {
     "name": "stderr",
     "output_type": "stream",
     "text": [
      "The tokenizer class you load from this checkpoint is not the same type as the class this function is called from. It may result in unexpected tokenization. \n",
      "The tokenizer class you load from this checkpoint is 'BertTokenizer'. \n",
      "The class this function is called from is 'KoBertTokenizer'.\n"
     ]
    }
   ],
   "source": [
    "#!pip install ko-sentence-transformers\n",
    "from sentence_transformers import SentenceTransformer, models\n",
    "from ko_sentence_transformers.models import KoBertTransformer\n",
    "\n",
    "# Model loading\n",
    "word_embedding_model = KoBertTransformer(\"monologg/kobert\", max_seq_length=75)\n",
    "pooling_model = models.Pooling(word_embedding_model.get_word_embedding_dimension(), pooling_mode='mean')\n",
    "model = SentenceTransformer(modules=[word_embedding_model, pooling_model])\n",
    "\n",
    "from sentence_transformers import SentenceTransformer, util\n",
    "import numpy as np\n",
    "import pandas as pd\n",
    "\n",
    "# embedder loading\n",
    "embedder = SentenceTransformer(\"jhgan/ko-sbert-sts\")"
   ]
  },
  {
   "cell_type": "markdown",
   "id": "ffc66709",
   "metadata": {},
   "source": [
    "# data loading"
   ]
  },
  {
   "cell_type": "code",
   "execution_count": 6,
   "id": "72a40582",
   "metadata": {
    "ExecuteTime": {
     "end_time": "2023-01-30T05:12:09.389500Z",
     "start_time": "2023-01-30T05:12:09.299442Z"
    }
   },
   "outputs": [
    {
     "data": {
      "text/plain": [
       "<bound method DataFrame.info of      cate   brand                                              pname  \\\n",
       "0      토너    넘버즈인  [대용량+미니어처] 넘버즈인 3번 결광가득 에센스 토너 300ml 어워즈 한정기획 ...   \n",
       "1      토너    넘버즈인  [대용량+미니어처] 넘버즈인 3번 결광가득 에센스 토너 300ml 어워즈 한정기획 ...   \n",
       "2      토너    넘버즈인  [대용량+미니어처] 넘버즈인 3번 결광가득 에센스 토너 300ml 어워즈 한정기획 ...   \n",
       "3      토너    넘버즈인  [대용량+미니어처] 넘버즈인 3번 결광가득 에센스 토너 300ml 어워즈 한정기획 ...   \n",
       "4      토너    넘버즈인  [대용량+미니어처] 넘버즈인 3번 결광가득 에센스 토너 300ml 어워즈 한정기획 ...   \n",
       "...   ...     ...                                                ...   \n",
       "3339   아이  홀리카홀리카                              홀리카홀리카 마이페이브 무드 아이팔레트   \n",
       "3340   아이  홀리카홀리카                              홀리카홀리카 마이페이브 무드 아이팔레트   \n",
       "3341   아이  홀리카홀리카                              홀리카홀리카 마이페이브 무드 아이팔레트   \n",
       "3342   아이  홀리카홀리카                              홀리카홀리카 마이페이브 무드 아이팔레트   \n",
       "3343   아이  홀리카홀리카                              홀리카홀리카 마이페이브 무드 아이팔레트   \n",
       "\n",
       "                            price  tstar  star  \\\n",
       "0     32,000\\n원\\n24,000\\n원\\n혜택 정보    4.7     5   \n",
       "1     32,000\\n원\\n24,000\\n원\\n혜택 정보    4.7     5   \n",
       "2     32,000\\n원\\n24,000\\n원\\n혜택 정보    4.7     4   \n",
       "3     32,000\\n원\\n24,000\\n원\\n혜택 정보    4.7     4   \n",
       "4     32,000\\n원\\n24,000\\n원\\n혜택 정보    4.7     5   \n",
       "...                           ...    ...   ...   \n",
       "3339  28,000\\n원\\n21,000\\n원\\n혜택 정보    4.7     4   \n",
       "3340  28,000\\n원\\n21,000\\n원\\n혜택 정보    4.7     4   \n",
       "3341  28,000\\n원\\n21,000\\n원\\n혜택 정보    4.7     5   \n",
       "3342  28,000\\n원\\n21,000\\n원\\n혜택 정보    4.7     5   \n",
       "3343  28,000\\n원\\n21,000\\n원\\n혜택 정보    4.7     5   \n",
       "\n",
       "                                                keyword  \\\n",
       "0           피부타입\\n건성에 좋아요\\n피부고민\\n보습에 좋아요\\n자극도\\n자극없이 순해요   \n",
       "1             피부타입\\n복합성에 좋아요\\n피부고민\\n보습에 좋아요\\n자극도\\n보통이에요   \n",
       "2           피부타입\\n지성에 좋아요\\n피부고민\\n진정에 좋아요\\n자극도\\n자극없이 순해요   \n",
       "3              피부타입\\n건성에 좋아요\\n피부고민\\n보습에 좋아요\\n자극도\\n보통이에요   \n",
       "4          피부타입\\n복합성에 좋아요\\n피부고민\\n보습에 좋아요\\n자극도\\n자극없이 순해요   \n",
       "...                                                 ...   \n",
       "3339  발색력\\n아주 만족해요\\n지속력\\n지속이 오래돼요\\n가루날림\\n날림이 있어요\\n펄감...   \n",
       "3340     발색력\\n보통이에요\\n지속력\\n보통이에요\\n가루날림\\n보통이에요\\n펄감\\n보통이에요   \n",
       "3341   발색력\\n아주 만족해요\\n지속력\\n보통이에요\\n가루날림\\n보통이에요\\n펄감\\n보통이에요   \n",
       "3342     발색력\\n보통이에요\\n지속력\\n보통이에요\\n가루날림\\n보통이에요\\n펄감\\n보통이에요   \n",
       "3343  발색력\\n아주 만족해요\\n지속력\\n보통이에요\\n가루날림\\n보통이에요\\n펄감\\n펄감이...   \n",
       "\n",
       "                                                     rv  \n",
       "0     🧡기존에 사용하던 토너가 좀 라이트 하게 느껴져서\\n겨울용 토너로 넘버즈인 결광가득...  \n",
       "1     ★ 넘버즈인 3번 결광가득 토너 \\n\\n※글쓴이 피부타입 수부지 예민한 트러블 피부...  \n",
       "2     ✔️건성보다는 지성에게 추천\\n\\n제품은 300ml의 대용량으로 \\n결광케어키트 5...  \n",
       "3     올영에서 항상 상위권에 랭크되는 제품이고 상품평이 좋아 구매해 보았어요. \\n이유 ...  \n",
       "4     극지성 피부인데 날이 갑자기 추워지면서 건조함을 느껴서 구매해봤어요. 촉촉한데 유분...  \n",
       "...                                                 ...  \n",
       "3339  저는 겨울쿨 비비드에요\\n진짜 웬만한 섀도우는 안맞아서 힘들었는데\\n퍼스널컬러 받을...  \n",
       "3340  살까말까 고민하는데 자꾸 품절되었다가 풀렸다 저랑 밀당을 하더라구요. 그래서 완전품...  \n",
       "3341  ㅠㅠ너무 예뻐요ㅠㅠ\\n피부가 아주 밝은 편이라 흰끼가 좀 있어야 자연스러운데, 이거...  \n",
       "3342  요즘잘쓰는팔레트 하지만 저는 진하게올리면 안어울리는 얼굴이라 음영많이안줘요 가격도 ...  \n",
       "3343  겨쿨딥으로서 전체 아홉 컬러 모두 잘 활용 중이에요ෆ\\n펄이 쿨핑크 / 피치 컬러로...  \n",
       "\n",
       "[3344 rows x 8 columns]>"
      ]
     },
     "execution_count": 6,
     "metadata": {},
     "output_type": "execute_result"
    }
   ],
   "source": [
    "# 데이터 불러오기\n",
    "df = pd.read_csv('DBdata.csv')\n",
    "df.info # 정보 확인"
   ]
  },
  {
   "cell_type": "code",
   "execution_count": 7,
   "id": "6de7360d",
   "metadata": {
    "ExecuteTime": {
     "end_time": "2023-01-30T05:12:15.241242Z",
     "start_time": "2023-01-30T05:12:15.229275Z"
    }
   },
   "outputs": [
    {
     "data": {
      "text/plain": [
       "array(['토너', '에센스', '미스트', '립', '베이스', '아이'], dtype=object)"
      ]
     },
     "execution_count": 7,
     "metadata": {},
     "output_type": "execute_result"
    }
   ],
   "source": [
    "# 카테고리별로 정보 나누기\n",
    "df['cate'].unique() # 카테고리 확인"
   ]
  },
  {
   "cell_type": "code",
   "execution_count": 39,
   "id": "7f7b5178",
   "metadata": {
    "ExecuteTime": {
     "end_time": "2023-01-30T06:13:26.905363Z",
     "start_time": "2023-01-30T06:13:26.861147Z"
    }
   },
   "outputs": [
    {
     "data": {
      "text/html": [
       "<div>\n",
       "<style scoped>\n",
       "    .dataframe tbody tr th:only-of-type {\n",
       "        vertical-align: middle;\n",
       "    }\n",
       "\n",
       "    .dataframe tbody tr th {\n",
       "        vertical-align: top;\n",
       "    }\n",
       "\n",
       "    .dataframe thead th {\n",
       "        text-align: right;\n",
       "    }\n",
       "</style>\n",
       "<table border=\"1\" class=\"dataframe\">\n",
       "  <thead>\n",
       "    <tr style=\"text-align: right;\">\n",
       "      <th></th>\n",
       "      <th>cate</th>\n",
       "      <th>brand</th>\n",
       "      <th>pname</th>\n",
       "      <th>price</th>\n",
       "      <th>tstar</th>\n",
       "      <th>star</th>\n",
       "      <th>keyword</th>\n",
       "      <th>rv</th>\n",
       "    </tr>\n",
       "  </thead>\n",
       "  <tbody>\n",
       "    <tr>\n",
       "      <th>0</th>\n",
       "      <td>토너</td>\n",
       "      <td>넘버즈인</td>\n",
       "      <td>[대용량+미니어처] 넘버즈인 3번 결광가득 에센스 토너 300ml 어워즈 한정기획 ...</td>\n",
       "      <td>32,000\\n원\\n24,000\\n원\\n혜택 정보</td>\n",
       "      <td>4.7</td>\n",
       "      <td>5</td>\n",
       "      <td>피부타입\\n건성에 좋아요\\n피부고민\\n보습에 좋아요\\n자극도\\n자극없이 순해요</td>\n",
       "      <td>🧡기존에 사용하던 토너가 좀 라이트 하게 느껴져서\\n겨울용 토너로 넘버즈인 결광가득...</td>\n",
       "    </tr>\n",
       "    <tr>\n",
       "      <th>1</th>\n",
       "      <td>토너</td>\n",
       "      <td>넘버즈인</td>\n",
       "      <td>[대용량+미니어처] 넘버즈인 3번 결광가득 에센스 토너 300ml 어워즈 한정기획 ...</td>\n",
       "      <td>32,000\\n원\\n24,000\\n원\\n혜택 정보</td>\n",
       "      <td>4.7</td>\n",
       "      <td>5</td>\n",
       "      <td>피부타입\\n복합성에 좋아요\\n피부고민\\n보습에 좋아요\\n자극도\\n보통이에요</td>\n",
       "      <td>★ 넘버즈인 3번 결광가득 토너 \\n\\n※글쓴이 피부타입 수부지 예민한 트러블 피부...</td>\n",
       "    </tr>\n",
       "    <tr>\n",
       "      <th>2</th>\n",
       "      <td>토너</td>\n",
       "      <td>넘버즈인</td>\n",
       "      <td>[대용량+미니어처] 넘버즈인 3번 결광가득 에센스 토너 300ml 어워즈 한정기획 ...</td>\n",
       "      <td>32,000\\n원\\n24,000\\n원\\n혜택 정보</td>\n",
       "      <td>4.7</td>\n",
       "      <td>4</td>\n",
       "      <td>피부타입\\n지성에 좋아요\\n피부고민\\n진정에 좋아요\\n자극도\\n자극없이 순해요</td>\n",
       "      <td>✔️건성보다는 지성에게 추천\\n\\n제품은 300ml의 대용량으로 \\n결광케어키트 5...</td>\n",
       "    </tr>\n",
       "    <tr>\n",
       "      <th>3</th>\n",
       "      <td>토너</td>\n",
       "      <td>넘버즈인</td>\n",
       "      <td>[대용량+미니어처] 넘버즈인 3번 결광가득 에센스 토너 300ml 어워즈 한정기획 ...</td>\n",
       "      <td>32,000\\n원\\n24,000\\n원\\n혜택 정보</td>\n",
       "      <td>4.7</td>\n",
       "      <td>4</td>\n",
       "      <td>피부타입\\n건성에 좋아요\\n피부고민\\n보습에 좋아요\\n자극도\\n보통이에요</td>\n",
       "      <td>올영에서 항상 상위권에 랭크되는 제품이고 상품평이 좋아 구매해 보았어요. \\n이유 ...</td>\n",
       "    </tr>\n",
       "    <tr>\n",
       "      <th>4</th>\n",
       "      <td>토너</td>\n",
       "      <td>넘버즈인</td>\n",
       "      <td>[대용량+미니어처] 넘버즈인 3번 결광가득 에센스 토너 300ml 어워즈 한정기획 ...</td>\n",
       "      <td>32,000\\n원\\n24,000\\n원\\n혜택 정보</td>\n",
       "      <td>4.7</td>\n",
       "      <td>5</td>\n",
       "      <td>피부타입\\n복합성에 좋아요\\n피부고민\\n보습에 좋아요\\n자극도\\n자극없이 순해요</td>\n",
       "      <td>극지성 피부인데 날이 갑자기 추워지면서 건조함을 느껴서 구매해봤어요. 촉촉한데 유분...</td>\n",
       "    </tr>\n",
       "    <tr>\n",
       "      <th>...</th>\n",
       "      <td>...</td>\n",
       "      <td>...</td>\n",
       "      <td>...</td>\n",
       "      <td>...</td>\n",
       "      <td>...</td>\n",
       "      <td>...</td>\n",
       "      <td>...</td>\n",
       "      <td>...</td>\n",
       "    </tr>\n",
       "    <tr>\n",
       "      <th>3339</th>\n",
       "      <td>아이</td>\n",
       "      <td>홀리카홀리카</td>\n",
       "      <td>홀리카홀리카 마이페이브 무드 아이팔레트</td>\n",
       "      <td>28,000\\n원\\n21,000\\n원\\n혜택 정보</td>\n",
       "      <td>4.7</td>\n",
       "      <td>4</td>\n",
       "      <td>발색력\\n아주 만족해요\\n지속력\\n지속이 오래돼요\\n가루날림\\n날림이 있어요\\n펄감...</td>\n",
       "      <td>저는 겨울쿨 비비드에요\\n진짜 웬만한 섀도우는 안맞아서 힘들었는데\\n퍼스널컬러 받을...</td>\n",
       "    </tr>\n",
       "    <tr>\n",
       "      <th>3340</th>\n",
       "      <td>아이</td>\n",
       "      <td>홀리카홀리카</td>\n",
       "      <td>홀리카홀리카 마이페이브 무드 아이팔레트</td>\n",
       "      <td>28,000\\n원\\n21,000\\n원\\n혜택 정보</td>\n",
       "      <td>4.7</td>\n",
       "      <td>4</td>\n",
       "      <td>발색력\\n보통이에요\\n지속력\\n보통이에요\\n가루날림\\n보통이에요\\n펄감\\n보통이에요</td>\n",
       "      <td>살까말까 고민하는데 자꾸 품절되었다가 풀렸다 저랑 밀당을 하더라구요. 그래서 완전품...</td>\n",
       "    </tr>\n",
       "    <tr>\n",
       "      <th>3341</th>\n",
       "      <td>아이</td>\n",
       "      <td>홀리카홀리카</td>\n",
       "      <td>홀리카홀리카 마이페이브 무드 아이팔레트</td>\n",
       "      <td>28,000\\n원\\n21,000\\n원\\n혜택 정보</td>\n",
       "      <td>4.7</td>\n",
       "      <td>5</td>\n",
       "      <td>발색력\\n아주 만족해요\\n지속력\\n보통이에요\\n가루날림\\n보통이에요\\n펄감\\n보통이에요</td>\n",
       "      <td>ㅠㅠ너무 예뻐요ㅠㅠ\\n피부가 아주 밝은 편이라 흰끼가 좀 있어야 자연스러운데, 이거...</td>\n",
       "    </tr>\n",
       "    <tr>\n",
       "      <th>3342</th>\n",
       "      <td>아이</td>\n",
       "      <td>홀리카홀리카</td>\n",
       "      <td>홀리카홀리카 마이페이브 무드 아이팔레트</td>\n",
       "      <td>28,000\\n원\\n21,000\\n원\\n혜택 정보</td>\n",
       "      <td>4.7</td>\n",
       "      <td>5</td>\n",
       "      <td>발색력\\n보통이에요\\n지속력\\n보통이에요\\n가루날림\\n보통이에요\\n펄감\\n보통이에요</td>\n",
       "      <td>요즘잘쓰는팔레트 하지만 저는 진하게올리면 안어울리는 얼굴이라 음영많이안줘요 가격도 ...</td>\n",
       "    </tr>\n",
       "    <tr>\n",
       "      <th>3343</th>\n",
       "      <td>아이</td>\n",
       "      <td>홀리카홀리카</td>\n",
       "      <td>홀리카홀리카 마이페이브 무드 아이팔레트</td>\n",
       "      <td>28,000\\n원\\n21,000\\n원\\n혜택 정보</td>\n",
       "      <td>4.7</td>\n",
       "      <td>5</td>\n",
       "      <td>발색력\\n아주 만족해요\\n지속력\\n보통이에요\\n가루날림\\n보통이에요\\n펄감\\n펄감이...</td>\n",
       "      <td>겨쿨딥으로서 전체 아홉 컬러 모두 잘 활용 중이에요ෆ\\n펄이 쿨핑크 / 피치 컬러로...</td>\n",
       "    </tr>\n",
       "  </tbody>\n",
       "</table>\n",
       "<p>3344 rows × 8 columns</p>\n",
       "</div>"
      ],
      "text/plain": [
       "     cate   brand                                              pname  \\\n",
       "0      토너    넘버즈인  [대용량+미니어처] 넘버즈인 3번 결광가득 에센스 토너 300ml 어워즈 한정기획 ...   \n",
       "1      토너    넘버즈인  [대용량+미니어처] 넘버즈인 3번 결광가득 에센스 토너 300ml 어워즈 한정기획 ...   \n",
       "2      토너    넘버즈인  [대용량+미니어처] 넘버즈인 3번 결광가득 에센스 토너 300ml 어워즈 한정기획 ...   \n",
       "3      토너    넘버즈인  [대용량+미니어처] 넘버즈인 3번 결광가득 에센스 토너 300ml 어워즈 한정기획 ...   \n",
       "4      토너    넘버즈인  [대용량+미니어처] 넘버즈인 3번 결광가득 에센스 토너 300ml 어워즈 한정기획 ...   \n",
       "...   ...     ...                                                ...   \n",
       "3339   아이  홀리카홀리카                              홀리카홀리카 마이페이브 무드 아이팔레트   \n",
       "3340   아이  홀리카홀리카                              홀리카홀리카 마이페이브 무드 아이팔레트   \n",
       "3341   아이  홀리카홀리카                              홀리카홀리카 마이페이브 무드 아이팔레트   \n",
       "3342   아이  홀리카홀리카                              홀리카홀리카 마이페이브 무드 아이팔레트   \n",
       "3343   아이  홀리카홀리카                              홀리카홀리카 마이페이브 무드 아이팔레트   \n",
       "\n",
       "                            price  tstar  star  \\\n",
       "0     32,000\\n원\\n24,000\\n원\\n혜택 정보    4.7     5   \n",
       "1     32,000\\n원\\n24,000\\n원\\n혜택 정보    4.7     5   \n",
       "2     32,000\\n원\\n24,000\\n원\\n혜택 정보    4.7     4   \n",
       "3     32,000\\n원\\n24,000\\n원\\n혜택 정보    4.7     4   \n",
       "4     32,000\\n원\\n24,000\\n원\\n혜택 정보    4.7     5   \n",
       "...                           ...    ...   ...   \n",
       "3339  28,000\\n원\\n21,000\\n원\\n혜택 정보    4.7     4   \n",
       "3340  28,000\\n원\\n21,000\\n원\\n혜택 정보    4.7     4   \n",
       "3341  28,000\\n원\\n21,000\\n원\\n혜택 정보    4.7     5   \n",
       "3342  28,000\\n원\\n21,000\\n원\\n혜택 정보    4.7     5   \n",
       "3343  28,000\\n원\\n21,000\\n원\\n혜택 정보    4.7     5   \n",
       "\n",
       "                                                keyword  \\\n",
       "0           피부타입\\n건성에 좋아요\\n피부고민\\n보습에 좋아요\\n자극도\\n자극없이 순해요   \n",
       "1             피부타입\\n복합성에 좋아요\\n피부고민\\n보습에 좋아요\\n자극도\\n보통이에요   \n",
       "2           피부타입\\n지성에 좋아요\\n피부고민\\n진정에 좋아요\\n자극도\\n자극없이 순해요   \n",
       "3              피부타입\\n건성에 좋아요\\n피부고민\\n보습에 좋아요\\n자극도\\n보통이에요   \n",
       "4          피부타입\\n복합성에 좋아요\\n피부고민\\n보습에 좋아요\\n자극도\\n자극없이 순해요   \n",
       "...                                                 ...   \n",
       "3339  발색력\\n아주 만족해요\\n지속력\\n지속이 오래돼요\\n가루날림\\n날림이 있어요\\n펄감...   \n",
       "3340     발색력\\n보통이에요\\n지속력\\n보통이에요\\n가루날림\\n보통이에요\\n펄감\\n보통이에요   \n",
       "3341   발색력\\n아주 만족해요\\n지속력\\n보통이에요\\n가루날림\\n보통이에요\\n펄감\\n보통이에요   \n",
       "3342     발색력\\n보통이에요\\n지속력\\n보통이에요\\n가루날림\\n보통이에요\\n펄감\\n보통이에요   \n",
       "3343  발색력\\n아주 만족해요\\n지속력\\n보통이에요\\n가루날림\\n보통이에요\\n펄감\\n펄감이...   \n",
       "\n",
       "                                                     rv  \n",
       "0     🧡기존에 사용하던 토너가 좀 라이트 하게 느껴져서\\n겨울용 토너로 넘버즈인 결광가득...  \n",
       "1     ★ 넘버즈인 3번 결광가득 토너 \\n\\n※글쓴이 피부타입 수부지 예민한 트러블 피부...  \n",
       "2     ✔️건성보다는 지성에게 추천\\n\\n제품은 300ml의 대용량으로 \\n결광케어키트 5...  \n",
       "3     올영에서 항상 상위권에 랭크되는 제품이고 상품평이 좋아 구매해 보았어요. \\n이유 ...  \n",
       "4     극지성 피부인데 날이 갑자기 추워지면서 건조함을 느껴서 구매해봤어요. 촉촉한데 유분...  \n",
       "...                                                 ...  \n",
       "3339  저는 겨울쿨 비비드에요\\n진짜 웬만한 섀도우는 안맞아서 힘들었는데\\n퍼스널컬러 받을...  \n",
       "3340  살까말까 고민하는데 자꾸 품절되었다가 풀렸다 저랑 밀당을 하더라구요. 그래서 완전품...  \n",
       "3341  ㅠㅠ너무 예뻐요ㅠㅠ\\n피부가 아주 밝은 편이라 흰끼가 좀 있어야 자연스러운데, 이거...  \n",
       "3342  요즘잘쓰는팔레트 하지만 저는 진하게올리면 안어울리는 얼굴이라 음영많이안줘요 가격도 ...  \n",
       "3343  겨쿨딥으로서 전체 아홉 컬러 모두 잘 활용 중이에요ෆ\\n펄이 쿨핑크 / 피치 컬러로...  \n",
       "\n",
       "[3344 rows x 8 columns]"
      ]
     },
     "execution_count": 39,
     "metadata": {},
     "output_type": "execute_result"
    }
   ],
   "source": [
    "df"
   ]
  },
  {
   "cell_type": "markdown",
   "id": "5759aded",
   "metadata": {},
   "source": [
    "# data preprocessing"
   ]
  },
  {
   "cell_type": "code",
   "execution_count": 43,
   "id": "0e007904",
   "metadata": {
    "ExecuteTime": {
     "end_time": "2023-01-30T06:43:28.415159Z",
     "start_time": "2023-01-30T06:43:28.393154Z"
    }
   },
   "outputs": [],
   "source": [
    "# 인덱스 추출 함수\n",
    "def data_split(cate):\n",
    "    if cate == '전체':\n",
    "        fir = df[df['cate'] == '토너'].index[0]\n",
    "        las = df[df['cate'] == '아이'].index[-1]\n",
    "    elif cate == '기초':\n",
    "        fir = df[df['cate'] == '토너'].index[0]\n",
    "        las = df[df['cate'] == '미스트'].index[-1]\n",
    "    elif cate == '색조':\n",
    "        fir = df[df['cate'] == '립'].index[0]\n",
    "        las = df[df['cate'] == '아이'].index[-1]\n",
    "    else:\n",
    "        fir = df[df['cate']== cate].index[0]\n",
    "        las = df[df['cate'] == cate].index[-1]\n",
    "        \n",
    "    return fir, las\n",
    "\n",
    "# # for문\n",
    "# corpus_name = ['s1_texts','s2_texts', 's3_texts',\\\n",
    "#                'm1_texts','m2_texts','m3_texts']\n",
    "# cate = ['토너', '에센스', '미스트', '립', '베이스', '아이']\n",
    "\n",
    "# 리뷰 전환 함수\n",
    "def data_rv(cate):\n",
    "    fir, las = data_split(cate)\n",
    "    texts = ''\n",
    "    for line in df.rv.loc[fir:las + 1]:\n",
    "        texts = texts + line\n",
    "    text = texts.split(sep = '\\n')\n",
    "    text = list(filter(None, text))\n",
    "    \n",
    "    return text\n",
    "\n",
    "# corpus용 텍스트 뽑는 함수\n",
    "def cor_text():\n",
    "    cate = str(input('카테고리를 입력하세요:'))\n",
    "    corpus = data_rv(cate)\n",
    "    embedding= embedder.encode(corpus, convert_to_tensor=True)\n",
    "    return corpus, embedding\n",
    "\n",
    "# def cor_text2(cate):  # for문으로 되려나?\n",
    "# #     cate = str(input('카테고리를 입력하세요:'))\n",
    "#     texts = ''\n",
    "#     for line in df.rv:\n",
    "#         texts = texts + line\n",
    "#     text = texts.split(sep = '\\n')\n",
    "#     text = list(filter(None, text))\n",
    "#     corpus = data_rv(cate)\n",
    "#     embedding_name = embedder.encode(corpus, convert_to_tensor=True)\n",
    "#     return embedding_name\n",
    "\n",
    "# 유사문장 리턴 함수\n",
    "def num_return(num, query, embed, corpus, cate):\n",
    "    top_k = num # 원하는 개수\n",
    "    cate_embedding = embed\n",
    "    # 유사도 평가를 위한 작업\n",
    "    query_embedding = embedder.encode(query, convert_to_tensor=True)\n",
    "    cos_scores = util.pytorch_cos_sim(query_embedding, cate_embedding)[0]\n",
    "    cos_scores = cos_scores.cpu()\n",
    "    # 상위 결과 추출\n",
    "    top_results = np.argpartition(-cos_scores, range(top_k))[0:top_k]\n",
    "    print(\"\\n▽▽▽▽▽▽▽▽▽▽▽▽▽▽▽▽▽▽\\n\")\n",
    "    print(\"요청 문장:\", query)\n",
    "    print(f\"\\t▶{cate}카테고리의 리뷰들 중 가장 유사한 {top_k}개 리뷰문장◀\")\n",
    "    for idx in top_results[0:top_k]:\n",
    "        print('\\t→',corpus[idx].strip(), \"(Score: %.4f)\" % (cos_scores[idx]))"
   ]
  },
  {
   "cell_type": "code",
   "execution_count": 51,
   "id": "71821d0d",
   "metadata": {
    "ExecuteTime": {
     "end_time": "2023-01-30T07:16:43.730254Z",
     "start_time": "2023-01-30T07:16:43.711940Z"
    }
   },
   "outputs": [],
   "source": [
    "# 카테고리 선택하는 함수 정의\n",
    "def choice_cate():\n",
    "    print('-'*30)\n",
    "    print('★원하는 카테고리를 선택해주세요★')\n",
    "    print('1. 토너\\t','2. 에센스\\t', '3. 미스트\\t')\n",
    "    print('4. 립\\t', '5. 베이스\\t', '6. 아 이\\t')\n",
    "    print('7. 전 체\\t', '8. 기 초\\t', '9. 색 조\\t')\n",
    "    print('-'*30)\n",
    "    num = int(input('1~9사이의 숫자를 입력하세요.'))\n",
    "    if num == 1:\n",
    "        embed = tonner_embedding\n",
    "        corpus = tonner_corpus\n",
    "        cate = '토너'\n",
    "    elif num == 2:\n",
    "        embed = essence_embedding\n",
    "        corpus = essence_corpus\n",
    "        cate = '에센스'\n",
    "    elif num == 3:\n",
    "        embed = mist_embedding\n",
    "        corpus = mist_corpus\n",
    "        cate = '미스트'\n",
    "    elif num == 4:\n",
    "        embed = lip_embedding\n",
    "        corpus = lip_corpus\n",
    "        cate = '립'\n",
    "    elif num == 5:\n",
    "        embed = base_embedding\n",
    "        corpus = base_corpus\n",
    "        cate = '베이스'\n",
    "    elif num == 6:\n",
    "        embed = eye_embedding\n",
    "        corpus = eye_corpus\n",
    "        cate = '아이'\n",
    "    elif num == 7:\n",
    "        embed = tot_embedding\n",
    "        corpus = tot_corpus\n",
    "        cate = '전체'\n",
    "    elif num == 8:\n",
    "        embed = bas_embedding\n",
    "        corpus = bas_corpus\n",
    "        cate = '기초'\n",
    "    elif num == 9:\n",
    "        embed = col_embedding\n",
    "        corpus = col_corpus\n",
    "        cate = '색조'\n",
    "    \n",
    "    else:\n",
    "        \n",
    "        return print('잘못 입력하셨습니다. 다시 시작하세요.')\n",
    "    \n",
    "    return embed, corpus,cate\n"
   ]
  },
  {
   "cell_type": "markdown",
   "id": "a02451de",
   "metadata": {},
   "source": [
    "# 실행 "
   ]
  },
  {
   "cell_type": "code",
   "execution_count": 27,
   "id": "3a630929",
   "metadata": {
    "ExecuteTime": {
     "end_time": "2023-01-30T05:52:49.787610Z",
     "start_time": "2023-01-30T05:39:57.027851Z"
    },
    "scrolled": true
   },
   "outputs": [
    {
     "name": "stdout",
     "output_type": "stream",
     "text": [
      "카테고리를 입력하세요:토너\n",
      "카테고리를 입력하세요:에센스\n",
      "카테고리를 입력하세요:미스트\n",
      "카테고리를 입력하세요:립\n",
      "카테고리를 입력하세요:베이스\n",
      "카테고리를 입력하세요:아이\n"
     ]
    }
   ],
   "source": [
    "## cate별 corpus, embedding을 반환해줌\n",
    "# 토너, 에센스, 미스트, 립, 베이스, 아이 순으로 입력  // for문 안되려나?\n",
    "tonner_corpus, tonner_embedding = cor_text()\n",
    "essence_corpus, essence_embedding = cor_text()\n",
    "mist_corpus, mist_embedding = cor_text()\n",
    "lip_corpus, lip_embedding = cor_text()\n",
    "base_corpus, base_embedding = cor_text()\n",
    "eye_corpus, eye_embedding = cor_text()"
   ]
  },
  {
   "cell_type": "code",
   "execution_count": 44,
   "id": "b5b49a3f",
   "metadata": {
    "ExecuteTime": {
     "end_time": "2023-01-30T07:08:29.669216Z",
     "start_time": "2023-01-30T06:43:32.585705Z"
    }
   },
   "outputs": [
    {
     "name": "stdout",
     "output_type": "stream",
     "text": [
      "카테고리를 입력하세요:전체\n",
      "카테고리를 입력하세요:기초\n",
      "카테고리를 입력하세요:색조\n"
     ]
    }
   ],
   "source": [
    "# 전체\n",
    "tot_corpus, tot_embedding = cor_text()\n",
    "bas_corpus, bas_embedding = cor_text()\n",
    "col_corpus, col_embedding = cor_text()"
   ]
  },
  {
   "cell_type": "markdown",
   "id": "a592a0aa",
   "metadata": {
    "hide_input": false
   },
   "source": [
    "# 쿼리 실행\n",
    "## 기본카테고리"
   ]
  },
  {
   "cell_type": "code",
   "execution_count": 28,
   "id": "66db95ef",
   "metadata": {
    "ExecuteTime": {
     "end_time": "2023-01-30T05:53:12.911146Z",
     "start_time": "2023-01-30T05:53:08.160441Z"
    },
    "scrolled": true
   },
   "outputs": [
    {
     "name": "stdout",
     "output_type": "stream",
     "text": [
      "검색하기 : 발색력 좋고 매트한 립스틱\n",
      "보고싶은 유사 문장의 개수를 숫자로 입력하세요:4\n",
      "-------------------------\n",
      "★원하는 카테고리를 선택해주세요★\n",
      "1. 토너\n",
      "  2. 에센스\n",
      " 3. 미스트\n",
      "4. 립\n",
      " 5. 베이스\n",
      " 6. 아이\n",
      "1~6사이의 숫자를 입력하세요.4\n",
      "\n",
      "▽▽▽▽▽▽▽▽▽▽▽▽▽▽▽▽▽▽\n",
      "\n",
      "요청 문장: 발색력 좋고 매트한 립스틱\n",
      "\t▶립카테고리의 리뷰들 중 가장 유사한 4개 리뷰문장:\n",
      "샤인 틴트라 매트하지 않고 촉촉하게 잘 발립니다~ (Score: 0.8722)\n",
      "글로우 틴트처럼 발색되는데 매트하게 변해요! (Score: 0.8607)\n",
      "●미끄러지면서 보송하고 블러리하게 발리는 매트 립스틱. (Score: 0.8578)\n",
      "●미끄러지면서 보송하고 블러리하게 발리는 매트 립스틱. (Score: 0.8578)\n"
     ]
    }
   ],
   "source": [
    "# 쿼리문 호출\n",
    "query= str(input('검색하기 : '))\n",
    "num = int(input('보고싶은 유사 문장의 개수를 숫자로 입력하세요:'))\n",
    "embed, corpus, cate = choice_cate()\n",
    "num_return(num, query, embed, corpus, cate)"
   ]
  },
  {
   "cell_type": "code",
   "execution_count": 30,
   "id": "0e37d08e",
   "metadata": {
    "ExecuteTime": {
     "end_time": "2023-01-30T05:55:22.970251Z",
     "start_time": "2023-01-30T05:55:15.325632Z"
    }
   },
   "outputs": [
    {
     "name": "stdout",
     "output_type": "stream",
     "text": [
      "검색하기 : 아빠 스킨\n",
      "보고싶은 유사 문장의 개수를 숫자로 입력하세요:5\n",
      "-------------------------\n",
      "★원하는 카테고리를 선택해주세요★\n",
      "1. 토너\n",
      "  2. 에센스\n",
      " 3. 미스트\n",
      "4. 립\n",
      " 5. 베이스\n",
      " 6. 아이\n",
      "1~6사이의 숫자를 입력하세요.1\n",
      "\n",
      "▽▽▽▽▽▽▽▽▽▽▽▽▽▽▽▽▽▽\n",
      "\n",
      "요청 문장: 아빠 스킨\n",
      "\t▶토너카테고리의 리뷰들 중 가장 유사한 5개 리뷰문장:\n",
      " (Score: 0.5224)\n",
      " (Score: 0.5224)\n",
      "-뽀샤시해짐 (Score: 0.4961)\n",
      "@성분 (Score: 0.4944)\n",
      "@성분 (Score: 0.4944)\n"
     ]
    }
   ],
   "source": [
    "query= str(input('검색하기 : '))\n",
    "num = int(input('보고싶은 유사 문장의 개수를 숫자로 입력하세요:'))\n",
    "embed, corpus, cate = choice_cate()\n",
    "num_return(num, query, embed, corpus, cate)"
   ]
  },
  {
   "cell_type": "code",
   "execution_count": 31,
   "id": "fa11c975",
   "metadata": {
    "ExecuteTime": {
     "end_time": "2023-01-30T05:56:32.223631Z",
     "start_time": "2023-01-30T05:56:20.873291Z"
    }
   },
   "outputs": [
    {
     "name": "stdout",
     "output_type": "stream",
     "text": [
      "검색하기 : 향기좋은 로션추천해줘\n",
      "보고싶은 유사 문장의 개수를 숫자로 입력하세요:5\n",
      "-------------------------\n",
      "★원하는 카테고리를 선택해주세요★\n",
      "1. 토너\n",
      "  2. 에센스\n",
      " 3. 미스트\n",
      "4. 립\n",
      " 5. 베이스\n",
      " 6. 아이\n",
      "1~6사이의 숫자를 입력하세요.2\n",
      "\n",
      "▽▽▽▽▽▽▽▽▽▽▽▽▽▽▽▽▽▽\n",
      "\n",
      "요청 문장: 향기좋은 로션추천해줘\n",
      "\t▶에센스카테고리의 리뷰들 중 가장 유사한 5개 리뷰문장:\n",
      "로션같은 느낌에 부드럽고 가볍게 발려요 (Score: 0.7337)\n",
      "ㅇㅏ니 로션까지 너무 조음.. 강추추에스트라는 피부 안정감을 주는 브랜드인 것 같아요. (Score: 0.7283)\n",
      "원래 쓰던 크림이나 로션에 이거 섞어발라두 좋고 (Score: 0.7184)\n",
      "⭐ 총평 : 건성이 휴대용으로 보습해주기 좋은 멀티밤. (Score: 0.7174)\n",
      "트러블 세럼이 진정효과에 좋은 것 같아요. (Score: 0.7105)\n"
     ]
    }
   ],
   "source": [
    "query= str(input('검색하기 : '))\n",
    "num = int(input('보고싶은 유사 문장의 개수를 숫자로 입력하세요:'))\n",
    "embed, corpus, cate = choice_cate()\n",
    "num_return(num, query, embed, corpus, cate)"
   ]
  },
  {
   "cell_type": "code",
   "execution_count": 33,
   "id": "257fc3f2",
   "metadata": {
    "ExecuteTime": {
     "end_time": "2023-01-30T05:59:03.236761Z",
     "start_time": "2023-01-30T05:58:39.098630Z"
    }
   },
   "outputs": [
    {
     "name": "stdout",
     "output_type": "stream",
     "text": [
      "검색하기 : 여드름 피부에 좋은 화장품\n",
      "보고싶은 유사 문장의 개수를 숫자로 입력하세요:3\n",
      "-------------------------\n",
      "★원하는 카테고리를 선택해주세요★\n",
      "1. 토너\n",
      "  2. 에센스\n",
      " 3. 미스트\n",
      "4. 립\n",
      " 5. 베이스\n",
      " 6. 아이\n",
      "1~6사이의 숫자를 입력하세요.1\n",
      "\n",
      "▽▽▽▽▽▽▽▽▽▽▽▽▽▽▽▽▽▽\n",
      "\n",
      "요청 문장: 여드름 피부에 좋은 화장품\n",
      "\t▶토너카테고리의 리뷰들 중 가장 유사한 3개 리뷰문장:\n",
      "\t→ ✔️제가 다니는 피부과에서는 이제품과 크림 추천 (Score: 0.7960)\n",
      "\t→ ✔️제가 다니는 피부과에서는 이제품과 크림 추천 (Score: 0.7960)\n",
      "\t→ 지성피부인 분들이 바르기에 적합하지 (Score: 0.7835)\n"
     ]
    }
   ],
   "source": [
    "query= str(input('검색하기 : '))\n",
    "num = int(input('보고싶은 유사 문장의 개수를 숫자로 입력하세요:'))\n",
    "embed, corpus, cate = choice_cate()\n",
    "num_return(num, query, embed, corpus, cate)"
   ]
  },
  {
   "cell_type": "code",
   "execution_count": 35,
   "id": "cacf4572",
   "metadata": {
    "ExecuteTime": {
     "end_time": "2023-01-30T06:00:36.397854Z",
     "start_time": "2023-01-30T06:00:15.247833Z"
    }
   },
   "outputs": [
    {
     "name": "stdout",
     "output_type": "stream",
     "text": [
      "검색하기 : 나는 피부가 약해서 순한 화장품을 찾는다.\n",
      "보고싶은 유사 문장의 개수를 숫자로 입력하세요:6\n",
      "-------------------------\n",
      "★원하는 카테고리를 선택해주세요★\n",
      "1. 토너\n",
      "  2. 에센스\n",
      " 3. 미스트\n",
      "4. 립\n",
      " 5. 베이스\n",
      " 6. 아이\n",
      "1~6사이의 숫자를 입력하세요.1\n",
      "\n",
      "▽▽▽▽▽▽▽▽▽▽▽▽▽▽▽▽▽▽\n",
      "\n",
      "요청 문장: 나는 피부가 약해서 순한 화장품을 찾는다.\n",
      "\t▶토너카테고리의 리뷰들 중 가장 유사한 6개 리뷰문장◀\n",
      "\t→ - 건성이며 순한 로션을 찾고 있다. (Score: 0.7712)\n",
      "\t→ - 극건성, 민감 피부로 자극이 덜가는 스킨케이를 찾고 있는 분. (Score: 0.7645)\n",
      "\t→ 남자친구 피부가 약해서  그나마 순하고 알레르기 성분이 없는 걸로 화해어플 꼼꼼히 보고 골라서 사봤어요! (Score: 0.7551)\n",
      "\t→ 순하고 진정에 좋은 토너가 필요한 타입이에요 (Score: 0.7320)\n",
      "\t→ -순하디 순한 제품(피부 안맞는 제품쓰면 바로 트러블행) (Score: 0.7269)\n",
      "\t→ 지성피부인 분들이 바르기에 적합하지 (Score: 0.7185)\n"
     ]
    }
   ],
   "source": [
    "query= str(input('검색하기 : '))\n",
    "num = int(input('보고싶은 유사 문장의 개수를 숫자로 입력하세요:'))\n",
    "embed, corpus, cate = choice_cate()\n",
    "num_return(num, query, embed, corpus, cate)"
   ]
  },
  {
   "cell_type": "code",
   "execution_count": 36,
   "id": "bf980517",
   "metadata": {
    "ExecuteTime": {
     "end_time": "2023-01-30T06:07:54.136468Z",
     "start_time": "2023-01-30T06:07:39.051835Z"
    }
   },
   "outputs": [
    {
     "name": "stdout",
     "output_type": "stream",
     "text": [
      "검색하기 : 나는 피부가 약해서 순한 화장품을 찾는다.\n",
      "보고싶은 유사 문장의 개수를 숫자로 입력하세요:5\n",
      "-------------------------\n",
      "★원하는 카테고리를 선택해주세요★\n",
      "1. 토너\n",
      "  2. 에센스\n",
      " 3. 미스트\n",
      "4. 립\n",
      " 5. 베이스\n",
      " 6. 아이\n",
      "1~6사이의 숫자를 입력하세요.1\n",
      "\n",
      "▽▽▽▽▽▽▽▽▽▽▽▽▽▽▽▽▽▽\n",
      "\n",
      "요청 문장: 나는 피부가 약해서 순한 화장품을 찾는다.\n",
      "\t▶토너카테고리의 리뷰들 중 가장 유사한 5개 리뷰문장◀\n",
      "\t→ - 건성이며 순한 로션을 찾고 있다. (Score: 0.7712)\n",
      "\t→ - 극건성, 민감 피부로 자극이 덜가는 스킨케이를 찾고 있는 분. (Score: 0.7645)\n",
      "\t→ 남자친구 피부가 약해서  그나마 순하고 알레르기 성분이 없는 걸로 화해어플 꼼꼼히 보고 골라서 사봤어요! (Score: 0.7551)\n",
      "\t→ 순하고 진정에 좋은 토너가 필요한 타입이에요 (Score: 0.7320)\n",
      "\t→ -순하디 순한 제품(피부 안맞는 제품쓰면 바로 트러블행) (Score: 0.7269)\n"
     ]
    }
   ],
   "source": [
    "query= str(input('검색하기 : '))\n",
    "num = int(input('보고싶은 유사 문장의 개수를 숫자로 입력하세요:'))\n",
    "embed, corpus, cate = choice_cate()\n",
    "num_return(num, query, embed, corpus, cate)"
   ]
  },
  {
   "cell_type": "code",
   "execution_count": 37,
   "id": "a7c21090",
   "metadata": {
    "ExecuteTime": {
     "end_time": "2023-01-30T06:11:22.475790Z",
     "start_time": "2023-01-30T06:11:12.331501Z"
    }
   },
   "outputs": [
    {
     "name": "stdout",
     "output_type": "stream",
     "text": [
      "검색하기 : 나는 피부가 약해서 순한 화장품을 찾는다.\n",
      "보고싶은 유사 문장의 개수를 숫자로 입력하세요:5\n",
      "-------------------------\n",
      "★원하는 카테고리를 선택해주세요★\n",
      "1. 토너\n",
      "  2. 에센스\n",
      " 3. 미스트\n",
      "4. 립\n",
      " 5. 베이스\n",
      " 6. 아이\n",
      "1~6사이의 숫자를 입력하세요.4\n",
      "\n",
      "▽▽▽▽▽▽▽▽▽▽▽▽▽▽▽▽▽▽\n",
      "\n",
      "요청 문장: 나는 피부가 약해서 순한 화장품을 찾는다.\n",
      "\t▶립카테고리의 리뷰들 중 가장 유사한 5개 리뷰문장◀\n",
      "\t→ 각질부각도 적은편이고 매끄럽게 잘 발리는편이에요 (Score: 0.6809)\n",
      "\t→ 각질러인 제가 발라봐도 밀착력이 좋아서 그런지 (Score: 0.6511)\n",
      "\t→ 각질러인 제가 발라봐도 밀착력이 좋아서 그런지 (Score: 0.6511)\n",
      "\t→ 진짜 잘 바르고 있어요. (Score: 0.6453)\n",
      "\t→ 선크림만 바른 얼굴에도 딱 어울려서 (Score: 0.6385)\n"
     ]
    }
   ],
   "source": [
    "query= str(input('검색하기 : '))\n",
    "num = int(input('보고싶은 유사 문장의 개수를 숫자로 입력하세요:'))\n",
    "embed, corpus, cate = choice_cate()\n",
    "num_return(num, query, embed, corpus, cate)"
   ]
  },
  {
   "cell_type": "code",
   "execution_count": 40,
   "id": "c445fd46",
   "metadata": {
    "ExecuteTime": {
     "end_time": "2023-01-30T06:14:38.673463Z",
     "start_time": "2023-01-30T06:14:20.043196Z"
    }
   },
   "outputs": [
    {
     "name": "stdout",
     "output_type": "stream",
     "text": [
      "검색하기 : 발색력 좋고 촉촉한 립스틱\n",
      "보고싶은 유사 문장의 개수를 숫자로 입력하세요:5\n",
      "-------------------------\n",
      "★원하는 카테고리를 선택해주세요★\n",
      "1. 토너\n",
      "  2. 에센스\n",
      " 3. 미스트\n",
      "4. 립\n",
      " 5. 베이스\n",
      " 6. 아이\n",
      "1~6사이의 숫자를 입력하세요.4\n",
      "\n",
      "▽▽▽▽▽▽▽▽▽▽▽▽▽▽▽▽▽▽\n",
      "\n",
      "요청 문장: 발색력 좋고 촉촉한 립스틱\n",
      "\t▶립카테고리의 리뷰들 중 가장 유사한 5개 리뷰문장◀\n",
      "\t→ 👉👉 제 얼굴에는 립스틱만 바르면 이상해서 립스틱 바른 후에 촉촉한 틴트 발라주면 발색 완전 예쁨 (Score: 0.8515)\n",
      "\t→ 립스틱, 틴트 보다 보습감있고 광택있는 제품 선호하신다면 (Score: 0.8513)\n",
      "\t→ 촉촉이 틴트치고 지속력도 좋아서 (Score: 0.8464)\n",
      "\t→ 립라이너답게 지속력 좋고 색상 잘 뽑혔어요!! (Score: 0.8411)\n",
      "\t→ 립라이너답게 지속력 좋고 색상 잘 뽑혔어요!! (Score: 0.8411)\n"
     ]
    }
   ],
   "source": [
    "query= str(input('검색하기 : '))\n",
    "num = int(input('보고싶은 유사 문장의 개수를 숫자로 입력하세요:'))\n",
    "embed, corpus, cate = choice_cate()\n",
    "num_return(num, query, embed, corpus, cate)"
   ]
  },
  {
   "cell_type": "code",
   "execution_count": 41,
   "id": "bd796bfe",
   "metadata": {
    "ExecuteTime": {
     "end_time": "2023-01-30T06:16:17.829394Z",
     "start_time": "2023-01-30T06:16:03.093664Z"
    }
   },
   "outputs": [
    {
     "name": "stdout",
     "output_type": "stream",
     "text": [
      "검색하기 : 미스트, 촉촉, 향좋음\n",
      "보고싶은 유사 문장의 개수를 숫자로 입력하세요:5\n",
      "-------------------------\n",
      "★원하는 카테고리를 선택해주세요★\n",
      "1. 토너\n",
      "  2. 에센스\n",
      " 3. 미스트\n",
      "4. 립\n",
      " 5. 베이스\n",
      " 6. 아이\n",
      "1~6사이의 숫자를 입력하세요.3\n",
      "\n",
      "▽▽▽▽▽▽▽▽▽▽▽▽▽▽▽▽▽▽\n",
      "\n",
      "요청 문장: 미스트, 촉촉, 향좋음\n",
      "\t▶미스트카테고리의 리뷰들 중 가장 유사한 5개 리뷰문장◀\n",
      "\t→ 향이 마음에 들고 수분감이 있어요.승무원 미스트로 유명하잖아요 (Score: 0.8482)\n",
      "\t→ 데일리로도 괜찮은 미스트 인데 (Score: 0.8237)\n",
      "\t→ 물미스트인데 촉촉하구 보습력 좋아요 (Score: 0.8203)\n",
      "\t→ 미스트에 적당한 유분기가 잇어 촉촉해요 (Score: 0.8194)\n",
      "\t→ 뿌릴수 있는 미스트예요 (Score: 0.8088)\n"
     ]
    }
   ],
   "source": [
    "query= str(input('검색하기 : '))\n",
    "num = int(input('보고싶은 유사 문장의 개수를 숫자로 입력하세요:'))\n",
    "embed, corpus, cate = choice_cate()\n",
    "num_return(num, query, embed, corpus, cate)"
   ]
  },
  {
   "cell_type": "markdown",
   "id": "a230e0f8",
   "metadata": {},
   "source": [
    "## 특정 카테고리"
   ]
  },
  {
   "cell_type": "code",
   "execution_count": 45,
   "id": "a60b0544",
   "metadata": {
    "ExecuteTime": {
     "end_time": "2023-01-30T07:09:33.864486Z",
     "start_time": "2023-01-30T07:09:26.998257Z"
    }
   },
   "outputs": [
    {
     "name": "stdout",
     "output_type": "stream",
     "text": [
      "검색하기 : 미스트, 촉촉, 향좋음\n",
      "보고싶은 유사 문장의 개수를 숫자로 입력하세요:5\n",
      "-------------------------\n",
      "★원하는 카테고리를 선택해주세요★\n",
      "1. 토너\n",
      " 2. 에센스\n",
      " 3. 미스트\n",
      "4. 립\n",
      " 5. 베이스\n",
      " 6. 아이\n",
      "1~6사이의 숫자를 입력하세요.7\n",
      "\n",
      "▽▽▽▽▽▽▽▽▽▽▽▽▽▽▽▽▽▽\n",
      "\n",
      "요청 문장: 미스트, 촉촉, 향좋음\n",
      "\t▶전체카테고리의 리뷰들 중 가장 유사한 5개 리뷰문장◀\n",
      "\t→ 향이 마음에 들고 수분감이 있어요.승무원 미스트로 유명하잖아요 (Score: 0.8482)\n",
      "\t→ 데일리로도 괜찮은 미스트 인데 (Score: 0.8237)\n",
      "\t→ 물미스트인데 촉촉하구 보습력 좋아요 (Score: 0.8203)\n",
      "\t→ 미스트에 적당한 유분기가 잇어 촉촉해요 (Score: 0.8194)\n",
      "\t→ 뿌릴수 있는 미스트예요 (Score: 0.8088)\n"
     ]
    }
   ],
   "source": [
    "query= str(input('검색하기 : '))\n",
    "num = int(input('보고싶은 유사 문장의 개수를 숫자로 입력하세요:'))\n",
    "embed, corpus, cate = choice_cate()\n",
    "num_return(num, query, embed, corpus, cate)"
   ]
  },
  {
   "cell_type": "code",
   "execution_count": 46,
   "id": "4de924ef",
   "metadata": {
    "ExecuteTime": {
     "end_time": "2023-01-30T07:10:10.176233Z",
     "start_time": "2023-01-30T07:09:52.928584Z"
    }
   },
   "outputs": [
    {
     "name": "stdout",
     "output_type": "stream",
     "text": [
      "검색하기 : 미스트, 향좋음, 촉촉\n",
      "보고싶은 유사 문장의 개수를 숫자로 입력하세요:5\n",
      "-------------------------\n",
      "★원하는 카테고리를 선택해주세요★\n",
      "1. 토너\n",
      " 2. 에센스\n",
      " 3. 미스트\n",
      "4. 립\n",
      " 5. 베이스\n",
      " 6. 아이\n",
      "1~6사이의 숫자를 입력하세요.8\n",
      "\n",
      "▽▽▽▽▽▽▽▽▽▽▽▽▽▽▽▽▽▽\n",
      "\n",
      "요청 문장: 미스트, 향좋음, 촉촉\n",
      "\t▶기초카테고리의 리뷰들 중 가장 유사한 5개 리뷰문장◀\n",
      "\t→ 향이 마음에 들고 수분감이 있어요.승무원 미스트로 유명하잖아요 (Score: 0.8505)\n",
      "\t→ 데일리로도 괜찮은 미스트 인데 (Score: 0.8357)\n",
      "\t→ 물미스트인데 촉촉하구 보습력 좋아요 (Score: 0.8241)\n",
      "\t→ 미스트에 적당한 유분기가 잇어 촉촉해요 (Score: 0.8234)\n",
      "\t→ 뿌릴수 있는 미스트예요 (Score: 0.8187)\n"
     ]
    }
   ],
   "source": [
    "query= str(input('검색하기 : '))\n",
    "num = int(input('보고싶은 유사 문장의 개수를 숫자로 입력하세요:'))\n",
    "embed, corpus, cate = choice_cate()\n",
    "num_return(num, query, embed, corpus, cate)"
   ]
  },
  {
   "cell_type": "code",
   "execution_count": 47,
   "id": "de74c8d7",
   "metadata": {
    "ExecuteTime": {
     "end_time": "2023-01-30T07:10:40.696015Z",
     "start_time": "2023-01-30T07:10:25.005437Z"
    }
   },
   "outputs": [
    {
     "name": "stdout",
     "output_type": "stream",
     "text": [
      "검색하기 : 촉촉한 제형의 립스틱\n",
      "보고싶은 유사 문장의 개수를 숫자로 입력하세요:5\n",
      "-------------------------\n",
      "★원하는 카테고리를 선택해주세요★\n",
      "1. 토너\n",
      " 2. 에센스\n",
      " 3. 미스트\n",
      "4. 립\n",
      " 5. 베이스\n",
      " 6. 아이\n",
      "1~6사이의 숫자를 입력하세요.7\n",
      "\n",
      "▽▽▽▽▽▽▽▽▽▽▽▽▽▽▽▽▽▽\n",
      "\n",
      "요청 문장: 촉촉한 제형의 립스틱\n",
      "\t▶전체카테고리의 리뷰들 중 가장 유사한 5개 리뷰문장◀\n",
      "\t→ ☑️ 부드러운 질감의 제형으로, 처음 바르는 립으로 추천해요. (Score: 0.8790)\n",
      "\t→ 립스틱, 틴트 보다 보습감있고 광택있는 제품 선호하신다면 (Score: 0.8588)\n",
      "\t→ 립스틱을 이렇게 (Score: 0.8495)\n",
      "\t→ 무르지 않은 타입의 매트한 립펜슬로 정황하게 라인을 (Score: 0.8432)\n",
      "\t→ 평소 촉촉한 립을 주로 발라주는 편이에요. (Score: 0.8410)\n"
     ]
    }
   ],
   "source": [
    "query= str(input('검색하기 : '))\n",
    "num = int(input('보고싶은 유사 문장의 개수를 숫자로 입력하세요:'))\n",
    "embed, corpus, cate = choice_cate()\n",
    "num_return(num, query, embed, corpus, cate)"
   ]
  },
  {
   "cell_type": "code",
   "execution_count": 48,
   "id": "e79378cf",
   "metadata": {
    "ExecuteTime": {
     "end_time": "2023-01-30T07:11:21.926404Z",
     "start_time": "2023-01-30T07:11:08.976027Z"
    }
   },
   "outputs": [
    {
     "name": "stdout",
     "output_type": "stream",
     "text": [
      "검색하기 : 촉촉한 제형의 립스틱\n",
      "보고싶은 유사 문장의 개수를 숫자로 입력하세요:5\n",
      "-------------------------\n",
      "★원하는 카테고리를 선택해주세요★\n",
      "1. 토너\n",
      " 2. 에센스\n",
      " 3. 미스트\n",
      "4. 립\n",
      " 5. 베이스\n",
      " 6. 아이\n",
      "1~6사이의 숫자를 입력하세요.8\n",
      "\n",
      "▽▽▽▽▽▽▽▽▽▽▽▽▽▽▽▽▽▽\n",
      "\n",
      "요청 문장: 촉촉한 제형의 립스틱\n",
      "\t▶기초카테고리의 리뷰들 중 가장 유사한 5개 리뷰문장◀\n",
      "\t→ 않습니다! 쌩얼에는 살짝만 발라도 부담감 없이 예쁘게 사용할 수 있고 메이크업 후 아주 연한 립제품 바르고 위에 이 틴트를 (Score: 0.7987)\n",
      "\t→ 입에도 립밤처럼 발라도 되는 제품이고 (Score: 0.7844)\n",
      "\t→ 바른 부분이 촉촉했고, (Score: 0.7833)\n",
      "\t→ 바른 부분이 촉촉했고, (Score: 0.7833)\n",
      "\t→ 끈적이지도 않고 아침 메이크업 전에 베이스로 발라요 (Score: 0.7768)\n"
     ]
    }
   ],
   "source": [
    "query= str(input('검색하기 : '))\n",
    "num = int(input('보고싶은 유사 문장의 개수를 숫자로 입력하세요:'))\n",
    "embed, corpus, cate = choice_cate()\n",
    "num_return(num, query, embed, corpus, cate)"
   ]
  },
  {
   "cell_type": "code",
   "execution_count": 52,
   "id": "6fb0c708",
   "metadata": {
    "ExecuteTime": {
     "end_time": "2023-01-30T07:17:14.870919Z",
     "start_time": "2023-01-30T07:16:52.728092Z"
    }
   },
   "outputs": [
    {
     "name": "stdout",
     "output_type": "stream",
     "text": [
      "검색하기 : 향좋은 립스틱\n",
      "보고싶은 유사 문장의 개수를 숫자로 입력하세요:5\n",
      "------------------------------\n",
      "★원하는 카테고리를 선택해주세요★\n",
      "1. 토너\t 2. 에센스\t 3. 미스트\t\n",
      "4. 립\t 5. 베이스\t 6. 아 이\t\n",
      "7. 전 체\t 8. 기 초\t 9. 색 조\t\n",
      "------------------------------\n",
      "1~6사이의 숫자를 입력하세요.8\n",
      "\n",
      "▽▽▽▽▽▽▽▽▽▽▽▽▽▽▽▽▽▽\n",
      "\n",
      "요청 문장: 향좋은 립스틱\n",
      "\t▶기초카테고리의 리뷰들 중 가장 유사한 5개 리뷰문장◀\n",
      "\t→ 향과  오일인데 기름진게 아니라 촵촵 붙는기분에좋고 라이트한 느낌의ㅣ 로션후 꾸욱 눌러주는데 담날까지 컨디션이 완전좋아요🖤 3ce 블러 워터 틴트 ㄹㅇ 후기 🖤 (Score: 0.7516)\n",
      "\t→ 묽은데 바르면 진하게 먹힌 느낌..로션타입인데 (Score: 0.7481)\n",
      "\t→ 입에도 립밤처럼 발라도 되는 제품이고 (Score: 0.7455)\n",
      "\t→ 메이크업 후 꼭 뿌려줘야 맘이 놓이는...ㅎㅎ (Score: 0.7435)\n",
      "\t→ 메이크업 후 꼭 뿌려줘야 맘이 놓이는...ㅎㅎ (Score: 0.7435)\n"
     ]
    }
   ],
   "source": [
    "query= str(input('검색하기 : '))\n",
    "num = int(input('보고싶은 유사 문장의 개수를 숫자로 입력하세요:'))\n",
    "embed, corpus, cate = choice_cate()\n",
    "num_return(num, query, embed, corpus, cate)"
   ]
  },
  {
   "cell_type": "code",
   "execution_count": 53,
   "id": "796b7f63",
   "metadata": {
    "ExecuteTime": {
     "end_time": "2023-01-30T07:17:36.677860Z",
     "start_time": "2023-01-30T07:17:29.171401Z"
    }
   },
   "outputs": [
    {
     "name": "stdout",
     "output_type": "stream",
     "text": [
      "검색하기 : 향좋은 립스틱\n",
      "보고싶은 유사 문장의 개수를 숫자로 입력하세요:5\n",
      "------------------------------\n",
      "★원하는 카테고리를 선택해주세요★\n",
      "1. 토너\t 2. 에센스\t 3. 미스트\t\n",
      "4. 립\t 5. 베이스\t 6. 아 이\t\n",
      "7. 전 체\t 8. 기 초\t 9. 색 조\t\n",
      "------------------------------\n",
      "1~6사이의 숫자를 입력하세요.9\n",
      "\n",
      "▽▽▽▽▽▽▽▽▽▽▽▽▽▽▽▽▽▽\n",
      "\n",
      "요청 문장: 향좋은 립스틱\n",
      "\t▶색조카테고리의 리뷰들 중 가장 유사한 5개 리뷰문장◀\n",
      "\t→ 🍋  립스틱 (Score: 0.8330)\n",
      "\t→ 립스틱을 이렇게 (Score: 0.8277)\n",
      "\t→ 립밤같지 않게 발색이 참 좋아요 (Score: 0.7961)\n",
      "\t→ 립밤 입구 부분 주변에 내용물이 잘 묻어나는 편이에용😇 (Score: 0.7957)\n",
      "\t→ 💥총평 : 봄웜이라면 아묻따 사야할 것 같은 예쁜 립스틱 ~ (Score: 0.7951)\n"
     ]
    }
   ],
   "source": [
    "query= str(input('검색하기 : '))\n",
    "num = int(input('보고싶은 유사 문장의 개수를 숫자로 입력하세요:'))\n",
    "embed, corpus, cate = choice_cate()\n",
    "num_return(num, query, embed, corpus, cate)"
   ]
  },
  {
   "cell_type": "code",
   "execution_count": 54,
   "id": "23545016",
   "metadata": {
    "ExecuteTime": {
     "end_time": "2023-01-30T07:41:50.630510Z",
     "start_time": "2023-01-30T07:41:41.793721Z"
    }
   },
   "outputs": [
    {
     "name": "stdout",
     "output_type": "stream",
     "text": [
      "검색하기 : 안녕\n",
      "보고싶은 유사 문장의 개수를 숫자로 입력하세요:5\n",
      "------------------------------\n",
      "★원하는 카테고리를 선택해주세요★\n",
      "1. 토너\t 2. 에센스\t 3. 미스트\t\n",
      "4. 립\t 5. 베이스\t 6. 아 이\t\n",
      "7. 전 체\t 8. 기 초\t 9. 색 조\t\n",
      "------------------------------\n",
      "1~6사이의 숫자를 입력하세요.4\n",
      "\n",
      "▽▽▽▽▽▽▽▽▽▽▽▽▽▽▽▽▽▽\n",
      "\n",
      "요청 문장: 안녕\n",
      "\t▶립카테고리의 리뷰들 중 가장 유사한 5개 리뷰문장◀\n",
      "\t→  (Score: 0.5829)\n",
      "\t→  (Score: 0.5829)\n",
      "\t→  (Score: 0.5829)\n",
      "\t→  (Score: 0.5829)\n",
      "\t→  (Score: 0.5829)\n"
     ]
    }
   ],
   "source": [
    "query= str(input('검색하기 : '))\n",
    "num = int(input('보고싶은 유사 문장의 개수를 숫자로 입력하세요:'))\n",
    "embed, corpus, cate = choice_cate()\n",
    "num_return(num, query, embed, corpus, cate)"
   ]
  },
  {
   "cell_type": "code",
   "execution_count": 64,
   "id": "e21178fa",
   "metadata": {
    "ExecuteTime": {
     "end_time": "2023-01-30T07:54:49.918876Z",
     "start_time": "2023-01-30T07:54:34.060500Z"
    }
   },
   "outputs": [
    {
     "name": "stdout",
     "output_type": "stream",
     "text": [
      "검색하기 : 건성에 좋은 로션\n",
      "보고싶은 유사 문장의 개수를 숫자로 입력하세요:5\n",
      "------------------------------\n",
      "★원하는 카테고리를 선택해주세요★\n",
      "1. 토너\t 2. 에센스\t 3. 미스트\t\n",
      "4. 립\t 5. 베이스\t 6. 아 이\t\n",
      "7. 전 체\t 8. 기 초\t 9. 색 조\t\n",
      "------------------------------\n",
      "1~6사이의 숫자를 입력하세요.1\n",
      "\n",
      "▽▽▽▽▽▽▽▽▽▽▽▽▽▽▽▽▽▽\n",
      "\n",
      "요청 문장: 건성에 좋은 로션\n",
      "\t▶토너카테고리의 리뷰들 중 가장 유사한 5개 리뷰문장◀\n",
      "\t→ - 건성이며 순한 로션을 찾고 있다. (Score: 0.8896)\n",
      "\t→ 건성한테 좋아요~ (Score: 0.8502)\n",
      "\t→ - 끈적이지 않는 촉촉한 데일리 로션을 찾고 있는 분. (Score: 0.8499)\n",
      "\t→ - 여름에 가볍게 사용하기 좋은 로션을 찾으시는분 (Score: 0.8266)\n",
      "\t→ 🌸우리가 느끼는 로션과 크림의 중간..? (Score: 0.8255)\n"
     ]
    }
   ],
   "source": [
    "query= str(input('검색하기 : '))\n",
    "num = int(input('보고싶은 유사 문장의 개수를 숫자로 입력하세요:'))\n",
    "embed, corpus, cate = choice_cate()\n",
    "num_return(num, query, embed, corpus, cate)"
   ]
  },
  {
   "cell_type": "code",
   "execution_count": 66,
   "id": "ad79c38c",
   "metadata": {
    "ExecuteTime": {
     "end_time": "2023-01-30T07:55:18.385720Z",
     "start_time": "2023-01-30T07:55:18.353758Z"
    }
   },
   "outputs": [
    {
     "name": "stdout",
     "output_type": "stream",
     "text": [
      "[한정기획]아벤느 트릭세라 뉴트리-플루이드 로션 1+1 기획 (200ml +100ml+100ml)\n"
     ]
    }
   ],
   "source": [
    "# 관련 리뷰 찾기\n",
    "text = '건성이며 순한 로션을 찾고 있다.'\n",
    "for i in range(1000):\n",
    "    if text in df['rv'][i]:\n",
    "        print(df['pname'][i])"
   ]
  },
  {
   "cell_type": "code",
   "execution_count": null,
   "id": "e9d69a9f",
   "metadata": {},
   "outputs": [],
   "source": []
  }
 ],
 "metadata": {
  "hide_input": false,
  "kernelspec": {
   "display_name": "Python 3 (ipykernel)",
   "language": "python",
   "name": "python3"
  },
  "language_info": {
   "codemirror_mode": {
    "name": "ipython",
    "version": 3
   },
   "file_extension": ".py",
   "mimetype": "text/x-python",
   "name": "python",
   "nbconvert_exporter": "python",
   "pygments_lexer": "ipython3",
   "version": "3.9.7"
  },
  "toc": {
   "base_numbering": 1,
   "nav_menu": {},
   "number_sections": true,
   "sideBar": true,
   "skip_h1_title": false,
   "title_cell": "Table of Contents",
   "title_sidebar": "Contents",
   "toc_cell": false,
   "toc_position": {},
   "toc_section_display": true,
   "toc_window_display": false
  }
 },
 "nbformat": 4,
 "nbformat_minor": 5
}
